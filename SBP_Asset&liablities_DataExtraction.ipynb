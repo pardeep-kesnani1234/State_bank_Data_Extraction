{
 "cells": [
  {
   "cell_type": "markdown",
   "id": "72103dfd",
   "metadata": {},
   "source": [
    "# Pdf Extraction"
   ]
  },
  {
   "cell_type": "code",
   "execution_count": 7,
   "id": "a2747586",
   "metadata": {},
   "outputs": [],
   "source": [
    "from pathlib import Path\n",
    "import requests"
   ]
  },
  {
   "cell_type": "code",
   "execution_count": 8,
   "id": "2e890984",
   "metadata": {},
   "outputs": [],
   "source": [
    "months = ['Jan','Feb','Mar','Apr','May','Jun','Jul','Aug','Sep','Oct','Nov','Dec']"
   ]
  },
  {
   "cell_type": "code",
   "execution_count": 10,
   "id": "fe2b86fa",
   "metadata": {},
   "outputs": [
    {
     "name": "stdout",
     "output_type": "stream",
     "text": [
      "Jan_2012\n",
      "Feb_2012\n",
      "Mar_2012\n",
      "Apr_2012\n",
      "May_2012\n",
      "Jun_2012\n",
      "Jul_2012\n",
      "Aug_2012\n",
      "Sep_2012\n",
      "Oct_2012\n",
      "Nov_2012\n",
      "Dec_2012\n",
      "Jan_2013\n",
      "Feb_2013\n",
      "Mar_2013\n",
      "Apr_2013\n",
      "May_2013\n",
      "Jun_2013\n",
      "Jul_2013\n",
      "Aug_2013\n",
      "Sep_2013\n",
      "Oct_2013\n",
      "Nov_2013\n",
      "Dec_2013\n",
      "Jan_2014\n",
      "Feb_2014\n",
      "Mar_2014\n",
      "Apr_2014\n",
      "May_2014\n",
      "Jun_2014\n",
      "Jul_2014\n",
      "Aug_2014\n",
      "Sep_2014\n",
      "Oct_2014\n",
      "Nov_2014\n",
      "Dec_2014\n",
      "Jan_2015\n",
      "Feb_2015\n",
      "Mar_2015\n",
      "Apr_2015\n",
      "May_2015\n",
      "Jun_2015\n",
      "Jul_2015\n",
      "Aug_2015\n",
      "Sep_2015\n",
      "Oct_2015\n",
      "Nov_2015\n",
      "Dec_2015\n",
      "Jan_2016\n",
      "Feb_2016\n",
      "Mar_2016\n",
      "Apr_2016\n",
      "May_2016\n",
      "Jun_2016\n",
      "Jul_2016\n",
      "Aug_2016\n",
      "Sep_2016\n",
      "Oct_2016\n",
      "Nov_2016\n",
      "Dec_2016\n"
     ]
    }
   ],
   "source": [
    "for year in range(2012,2017):\n",
    "    for month in months:\n",
    "        print(month+'_'+str(year))\n",
    "        year_month = str(year)+'_'+month\n",
    "        filename = Path('sbp_pdf/'+year_month+'.pdf')\n",
    "        url = 'https://www.sbp.org.pk/reports/stat_reviews/Bulletin/'+str(year)+'/'+month+'/'+'/BankingSystem.pdf'\n",
    "        response = requests.get(url)\n",
    "        filename.write_bytes(response.content)"
   ]
  },
  {
   "cell_type": "markdown",
   "id": "29ee4276",
   "metadata": {},
   "source": [
    "# Complete Scrapper"
   ]
  },
  {
   "cell_type": "code",
   "execution_count": 5,
   "id": "8a7213eb",
   "metadata": {},
   "outputs": [
    {
     "name": "stdout",
     "output_type": "stream",
     "text": [
      "Collecting PyPDF2\n",
      "  Downloading PyPDF2-1.26.0.tar.gz (77 kB)\n",
      "Building wheels for collected packages: PyPDF2\n",
      "  Building wheel for PyPDF2 (setup.py): started\n",
      "  Building wheel for PyPDF2 (setup.py): finished with status 'done'\n",
      "  Created wheel for PyPDF2: filename=PyPDF2-1.26.0-py3-none-any.whl size=61101 sha256=0bbccbe4ae3cae856cdb728ccb5c1bd1d2d778baa3d1c86c985e10ff50608eff\n",
      "  Stored in directory: c:\\users\\pardeep.kumar\\appdata\\local\\pip\\cache\\wheels\\d9\\dc\\ec\\72da68331f30074b9950c1737c23cb8a67484e61498bc9713d\n",
      "Successfully built PyPDF2\n",
      "Installing collected packages: PyPDF2\n",
      "Successfully installed PyPDF2-1.26.0\n"
     ]
    }
   ],
   "source": [
    "!pip install PyPDF2"
   ]
  },
  {
   "cell_type": "code",
   "execution_count": 6,
   "id": "6d087e16",
   "metadata": {},
   "outputs": [],
   "source": [
    "import pandas as pd\n",
    "from PyPDF2 import PdfFileReader\n",
    "import requests\n",
    "import io\n",
    "from bs4 import BeautifulSoup"
   ]
  },
  {
   "cell_type": "code",
   "execution_count": 7,
   "id": "f917c381",
   "metadata": {},
   "outputs": [],
   "source": [
    "months = ['Jan','Feb','Mar','Apr','May','Jun','Jul','Aug','Sep','Oct','Nov','Dec']"
   ]
  },
  {
   "cell_type": "code",
   "execution_count": 8,
   "id": "8b9828a4",
   "metadata": {},
   "outputs": [],
   "source": [
    "def info(pdf_path):\n",
    "\n",
    "\t# used get method to get the pdf file\n",
    "\tresponse = requests.get(pdf_path)\n",
    "\n",
    "\t# response.content generate binary code for\n",
    "\t# string function\n",
    "\twith io.BytesIO(response.content) as f:\n",
    "\n",
    "\t\t# initialized the pdf\n",
    "\t\tpdf = PdfFileReader(f)\n",
    "\n",
    "\t\t# all info about pdf\n",
    "\t\tinformation = pdf.getDocumentInfo()\n",
    "\t\tnumber_of_pages = pdf.getNumPages()\n",
    "\t\tpageObj = pdf.getPage(0)\n",
    "\t\tcontent  = pageObj.extractText()\n",
    "        \n",
    "        \n",
    "        \n",
    "        \n",
    "\n",
    "\ttxt = f\"\"\"\n",
    "\tInformation about {pdf_path}:\n",
    "\t\n",
    "\tAuthor: {information.author}\n",
    "\tCreator: {information.creator}\n",
    "\tProducer: {information.producer}\n",
    "\tSubject: {information.subject}\n",
    "\tTitle: {information.title}\n",
    "\tNumber of pages: {number_of_pages}\n",
    "    Content : {content}\n",
    "\t\"\"\"\n",
    "\ttxt1 = f\"\"\"\n",
    "3    Content : {content}\n",
    "\t\"\"\"        \n",
    "\t#print(txt1)\n",
    "\t\n",
    "\treturn txt1\n"
   ]
  },
  {
   "cell_type": "code",
   "execution_count": 10,
   "id": "36eb451e",
   "metadata": {
    "collapsed": true
   },
   "outputs": [
    {
     "name": "stdout",
     "output_type": "stream",
     "text": [
      "Jan_2019\n",
      "Feb_2019\n"
     ]
    },
    {
     "ename": "KeyboardInterrupt",
     "evalue": "",
     "output_type": "error",
     "traceback": [
      "\u001b[1;31m---------------------------------------------------------------------------\u001b[0m",
      "\u001b[1;31mKeyboardInterrupt\u001b[0m                         Traceback (most recent call last)",
      "\u001b[1;32mC:\\Users\\PARDEE~1.KUM\\AppData\\Local\\Temp/ipykernel_3784/2211486104.py\u001b[0m in \u001b[0;36m<module>\u001b[1;34m\u001b[0m\n\u001b[0;32m      4\u001b[0m         \u001b[1;31m#header\u001b[0m\u001b[1;33m\u001b[0m\u001b[1;33m\u001b[0m\u001b[0m\n\u001b[0;32m      5\u001b[0m         \u001b[0mlink\u001b[0m \u001b[1;33m=\u001b[0m \u001b[1;34m'https://www.sbp.org.pk/reports/stat_reviews/Bulletin/'\u001b[0m\u001b[1;33m+\u001b[0m\u001b[0mstr\u001b[0m\u001b[1;33m(\u001b[0m\u001b[0myear\u001b[0m\u001b[1;33m)\u001b[0m\u001b[1;33m+\u001b[0m\u001b[1;34m'/'\u001b[0m\u001b[1;33m+\u001b[0m\u001b[0mmonth\u001b[0m\u001b[1;33m+\u001b[0m\u001b[1;34m'/'\u001b[0m\u001b[1;33m+\u001b[0m\u001b[1;34m'/BankingSystem.pdf'\u001b[0m\u001b[1;33m\u001b[0m\u001b[1;33m\u001b[0m\u001b[0m\n\u001b[1;32m----> 6\u001b[1;33m         \u001b[0mpdf_content\u001b[0m \u001b[1;33m=\u001b[0m \u001b[0minfo\u001b[0m\u001b[1;33m(\u001b[0m\u001b[0mlink\u001b[0m\u001b[1;33m)\u001b[0m\u001b[1;33m\u001b[0m\u001b[1;33m\u001b[0m\u001b[0m\n\u001b[0m\u001b[0;32m      7\u001b[0m         \u001b[0mheader\u001b[0m \u001b[1;33m=\u001b[0m \u001b[0mpdf_content\u001b[0m\u001b[1;33m.\u001b[0m\u001b[0msplit\u001b[0m\u001b[1;33m(\u001b[0m\u001b[1;34m'\\n'\u001b[0m\u001b[1;33m)\u001b[0m\u001b[1;33m[\u001b[0m\u001b[0mpdf_content\u001b[0m\u001b[1;33m.\u001b[0m\u001b[0msplit\u001b[0m\u001b[1;33m(\u001b[0m\u001b[1;34m'\\n'\u001b[0m\u001b[1;33m)\u001b[0m\u001b[1;33m.\u001b[0m\u001b[0mindex\u001b[0m\u001b[1;33m(\u001b[0m\u001b[1;34m\"Liabilities/Assets\"\u001b[0m\u001b[1;33m)\u001b[0m\u001b[1;33m+\u001b[0m\u001b[1;36m1\u001b[0m\u001b[1;33m:\u001b[0m\u001b[0mpdf_content\u001b[0m\u001b[1;33m.\u001b[0m\u001b[0msplit\u001b[0m\u001b[1;33m(\u001b[0m\u001b[1;34m'\\n'\u001b[0m\u001b[1;33m)\u001b[0m\u001b[1;33m.\u001b[0m\u001b[0mindex\u001b[0m\u001b[1;33m(\u001b[0m\u001b[1;34m\"Liabilities\"\u001b[0m\u001b[1;33m)\u001b[0m\u001b[1;33m]\u001b[0m\u001b[1;33m\u001b[0m\u001b[1;33m\u001b[0m\u001b[0m\n\u001b[0;32m      8\u001b[0m         \u001b[0mheader_trans\u001b[0m \u001b[1;33m=\u001b[0m  \u001b[1;33m[\u001b[0m\u001b[0mele\u001b[0m \u001b[1;32mfor\u001b[0m \u001b[0mele\u001b[0m \u001b[1;32min\u001b[0m \u001b[0mheader\u001b[0m \u001b[1;32mif\u001b[0m \u001b[0mele\u001b[0m\u001b[1;33m.\u001b[0m\u001b[0mstrip\u001b[0m\u001b[1;33m(\u001b[0m\u001b[1;33m)\u001b[0m\u001b[1;33m]\u001b[0m\u001b[1;33m\u001b[0m\u001b[1;33m\u001b[0m\u001b[0m\n",
      "\u001b[1;32mC:\\Users\\PARDEE~1.KUM\\AppData\\Local\\Temp/ipykernel_3784/426988175.py\u001b[0m in \u001b[0;36minfo\u001b[1;34m(pdf_path)\u001b[0m\n\u001b[0;32m      2\u001b[0m \u001b[1;33m\u001b[0m\u001b[0m\n\u001b[0;32m      3\u001b[0m         \u001b[1;31m# used get method to get the pdf file\u001b[0m\u001b[1;33m\u001b[0m\u001b[1;33m\u001b[0m\u001b[0m\n\u001b[1;32m----> 4\u001b[1;33m         \u001b[0mresponse\u001b[0m \u001b[1;33m=\u001b[0m \u001b[0mrequests\u001b[0m\u001b[1;33m.\u001b[0m\u001b[0mget\u001b[0m\u001b[1;33m(\u001b[0m\u001b[0mpdf_path\u001b[0m\u001b[1;33m)\u001b[0m\u001b[1;33m\u001b[0m\u001b[1;33m\u001b[0m\u001b[0m\n\u001b[0m\u001b[0;32m      5\u001b[0m \u001b[1;33m\u001b[0m\u001b[0m\n\u001b[0;32m      6\u001b[0m         \u001b[1;31m# response.content generate binary code for\u001b[0m\u001b[1;33m\u001b[0m\u001b[1;33m\u001b[0m\u001b[0m\n",
      "\u001b[1;32mC:\\ProgramData\\Anaconda3\\lib\\site-packages\\requests\\api.py\u001b[0m in \u001b[0;36mget\u001b[1;34m(url, params, **kwargs)\u001b[0m\n\u001b[0;32m     73\u001b[0m     \"\"\"\n\u001b[0;32m     74\u001b[0m \u001b[1;33m\u001b[0m\u001b[0m\n\u001b[1;32m---> 75\u001b[1;33m     \u001b[1;32mreturn\u001b[0m \u001b[0mrequest\u001b[0m\u001b[1;33m(\u001b[0m\u001b[1;34m'get'\u001b[0m\u001b[1;33m,\u001b[0m \u001b[0murl\u001b[0m\u001b[1;33m,\u001b[0m \u001b[0mparams\u001b[0m\u001b[1;33m=\u001b[0m\u001b[0mparams\u001b[0m\u001b[1;33m,\u001b[0m \u001b[1;33m**\u001b[0m\u001b[0mkwargs\u001b[0m\u001b[1;33m)\u001b[0m\u001b[1;33m\u001b[0m\u001b[1;33m\u001b[0m\u001b[0m\n\u001b[0m\u001b[0;32m     76\u001b[0m \u001b[1;33m\u001b[0m\u001b[0m\n\u001b[0;32m     77\u001b[0m \u001b[1;33m\u001b[0m\u001b[0m\n",
      "\u001b[1;32mC:\\ProgramData\\Anaconda3\\lib\\site-packages\\requests\\api.py\u001b[0m in \u001b[0;36mrequest\u001b[1;34m(method, url, **kwargs)\u001b[0m\n\u001b[0;32m     59\u001b[0m     \u001b[1;31m# cases, and look like a memory leak in others.\u001b[0m\u001b[1;33m\u001b[0m\u001b[1;33m\u001b[0m\u001b[0m\n\u001b[0;32m     60\u001b[0m     \u001b[1;32mwith\u001b[0m \u001b[0msessions\u001b[0m\u001b[1;33m.\u001b[0m\u001b[0mSession\u001b[0m\u001b[1;33m(\u001b[0m\u001b[1;33m)\u001b[0m \u001b[1;32mas\u001b[0m \u001b[0msession\u001b[0m\u001b[1;33m:\u001b[0m\u001b[1;33m\u001b[0m\u001b[1;33m\u001b[0m\u001b[0m\n\u001b[1;32m---> 61\u001b[1;33m         \u001b[1;32mreturn\u001b[0m \u001b[0msession\u001b[0m\u001b[1;33m.\u001b[0m\u001b[0mrequest\u001b[0m\u001b[1;33m(\u001b[0m\u001b[0mmethod\u001b[0m\u001b[1;33m=\u001b[0m\u001b[0mmethod\u001b[0m\u001b[1;33m,\u001b[0m \u001b[0murl\u001b[0m\u001b[1;33m=\u001b[0m\u001b[0murl\u001b[0m\u001b[1;33m,\u001b[0m \u001b[1;33m**\u001b[0m\u001b[0mkwargs\u001b[0m\u001b[1;33m)\u001b[0m\u001b[1;33m\u001b[0m\u001b[1;33m\u001b[0m\u001b[0m\n\u001b[0m\u001b[0;32m     62\u001b[0m \u001b[1;33m\u001b[0m\u001b[0m\n\u001b[0;32m     63\u001b[0m \u001b[1;33m\u001b[0m\u001b[0m\n",
      "\u001b[1;32mC:\\ProgramData\\Anaconda3\\lib\\site-packages\\requests\\sessions.py\u001b[0m in \u001b[0;36mrequest\u001b[1;34m(self, method, url, params, data, headers, cookies, files, auth, timeout, allow_redirects, proxies, hooks, stream, verify, cert, json)\u001b[0m\n\u001b[0;32m    540\u001b[0m         }\n\u001b[0;32m    541\u001b[0m         \u001b[0msend_kwargs\u001b[0m\u001b[1;33m.\u001b[0m\u001b[0mupdate\u001b[0m\u001b[1;33m(\u001b[0m\u001b[0msettings\u001b[0m\u001b[1;33m)\u001b[0m\u001b[1;33m\u001b[0m\u001b[1;33m\u001b[0m\u001b[0m\n\u001b[1;32m--> 542\u001b[1;33m         \u001b[0mresp\u001b[0m \u001b[1;33m=\u001b[0m \u001b[0mself\u001b[0m\u001b[1;33m.\u001b[0m\u001b[0msend\u001b[0m\u001b[1;33m(\u001b[0m\u001b[0mprep\u001b[0m\u001b[1;33m,\u001b[0m \u001b[1;33m**\u001b[0m\u001b[0msend_kwargs\u001b[0m\u001b[1;33m)\u001b[0m\u001b[1;33m\u001b[0m\u001b[1;33m\u001b[0m\u001b[0m\n\u001b[0m\u001b[0;32m    543\u001b[0m \u001b[1;33m\u001b[0m\u001b[0m\n\u001b[0;32m    544\u001b[0m         \u001b[1;32mreturn\u001b[0m \u001b[0mresp\u001b[0m\u001b[1;33m\u001b[0m\u001b[1;33m\u001b[0m\u001b[0m\n",
      "\u001b[1;32mC:\\ProgramData\\Anaconda3\\lib\\site-packages\\requests\\sessions.py\u001b[0m in \u001b[0;36msend\u001b[1;34m(self, request, **kwargs)\u001b[0m\n\u001b[0;32m    695\u001b[0m \u001b[1;33m\u001b[0m\u001b[0m\n\u001b[0;32m    696\u001b[0m         \u001b[1;32mif\u001b[0m \u001b[1;32mnot\u001b[0m \u001b[0mstream\u001b[0m\u001b[1;33m:\u001b[0m\u001b[1;33m\u001b[0m\u001b[1;33m\u001b[0m\u001b[0m\n\u001b[1;32m--> 697\u001b[1;33m             \u001b[0mr\u001b[0m\u001b[1;33m.\u001b[0m\u001b[0mcontent\u001b[0m\u001b[1;33m\u001b[0m\u001b[1;33m\u001b[0m\u001b[0m\n\u001b[0m\u001b[0;32m    698\u001b[0m \u001b[1;33m\u001b[0m\u001b[0m\n\u001b[0;32m    699\u001b[0m         \u001b[1;32mreturn\u001b[0m \u001b[0mr\u001b[0m\u001b[1;33m\u001b[0m\u001b[1;33m\u001b[0m\u001b[0m\n",
      "\u001b[1;32mC:\\ProgramData\\Anaconda3\\lib\\site-packages\\requests\\models.py\u001b[0m in \u001b[0;36mcontent\u001b[1;34m(self)\u001b[0m\n\u001b[0;32m    834\u001b[0m                 \u001b[0mself\u001b[0m\u001b[1;33m.\u001b[0m\u001b[0m_content\u001b[0m \u001b[1;33m=\u001b[0m \u001b[1;32mNone\u001b[0m\u001b[1;33m\u001b[0m\u001b[1;33m\u001b[0m\u001b[0m\n\u001b[0;32m    835\u001b[0m             \u001b[1;32melse\u001b[0m\u001b[1;33m:\u001b[0m\u001b[1;33m\u001b[0m\u001b[1;33m\u001b[0m\u001b[0m\n\u001b[1;32m--> 836\u001b[1;33m                 \u001b[0mself\u001b[0m\u001b[1;33m.\u001b[0m\u001b[0m_content\u001b[0m \u001b[1;33m=\u001b[0m \u001b[1;34mb''\u001b[0m\u001b[1;33m.\u001b[0m\u001b[0mjoin\u001b[0m\u001b[1;33m(\u001b[0m\u001b[0mself\u001b[0m\u001b[1;33m.\u001b[0m\u001b[0miter_content\u001b[0m\u001b[1;33m(\u001b[0m\u001b[0mCONTENT_CHUNK_SIZE\u001b[0m\u001b[1;33m)\u001b[0m\u001b[1;33m)\u001b[0m \u001b[1;32mor\u001b[0m \u001b[1;34mb''\u001b[0m\u001b[1;33m\u001b[0m\u001b[1;33m\u001b[0m\u001b[0m\n\u001b[0m\u001b[0;32m    837\u001b[0m \u001b[1;33m\u001b[0m\u001b[0m\n\u001b[0;32m    838\u001b[0m         \u001b[0mself\u001b[0m\u001b[1;33m.\u001b[0m\u001b[0m_content_consumed\u001b[0m \u001b[1;33m=\u001b[0m \u001b[1;32mTrue\u001b[0m\u001b[1;33m\u001b[0m\u001b[1;33m\u001b[0m\u001b[0m\n",
      "\u001b[1;32mC:\\ProgramData\\Anaconda3\\lib\\site-packages\\requests\\models.py\u001b[0m in \u001b[0;36mgenerate\u001b[1;34m()\u001b[0m\n\u001b[0;32m    756\u001b[0m             \u001b[1;32mif\u001b[0m \u001b[0mhasattr\u001b[0m\u001b[1;33m(\u001b[0m\u001b[0mself\u001b[0m\u001b[1;33m.\u001b[0m\u001b[0mraw\u001b[0m\u001b[1;33m,\u001b[0m \u001b[1;34m'stream'\u001b[0m\u001b[1;33m)\u001b[0m\u001b[1;33m:\u001b[0m\u001b[1;33m\u001b[0m\u001b[1;33m\u001b[0m\u001b[0m\n\u001b[0;32m    757\u001b[0m                 \u001b[1;32mtry\u001b[0m\u001b[1;33m:\u001b[0m\u001b[1;33m\u001b[0m\u001b[1;33m\u001b[0m\u001b[0m\n\u001b[1;32m--> 758\u001b[1;33m                     \u001b[1;32mfor\u001b[0m \u001b[0mchunk\u001b[0m \u001b[1;32min\u001b[0m \u001b[0mself\u001b[0m\u001b[1;33m.\u001b[0m\u001b[0mraw\u001b[0m\u001b[1;33m.\u001b[0m\u001b[0mstream\u001b[0m\u001b[1;33m(\u001b[0m\u001b[0mchunk_size\u001b[0m\u001b[1;33m,\u001b[0m \u001b[0mdecode_content\u001b[0m\u001b[1;33m=\u001b[0m\u001b[1;32mTrue\u001b[0m\u001b[1;33m)\u001b[0m\u001b[1;33m:\u001b[0m\u001b[1;33m\u001b[0m\u001b[1;33m\u001b[0m\u001b[0m\n\u001b[0m\u001b[0;32m    759\u001b[0m                         \u001b[1;32myield\u001b[0m \u001b[0mchunk\u001b[0m\u001b[1;33m\u001b[0m\u001b[1;33m\u001b[0m\u001b[0m\n\u001b[0;32m    760\u001b[0m                 \u001b[1;32mexcept\u001b[0m \u001b[0mProtocolError\u001b[0m \u001b[1;32mas\u001b[0m \u001b[0me\u001b[0m\u001b[1;33m:\u001b[0m\u001b[1;33m\u001b[0m\u001b[1;33m\u001b[0m\u001b[0m\n",
      "\u001b[1;32mC:\\ProgramData\\Anaconda3\\lib\\site-packages\\urllib3\\response.py\u001b[0m in \u001b[0;36mstream\u001b[1;34m(self, amt, decode_content)\u001b[0m\n\u001b[0;32m    574\u001b[0m         \u001b[1;32melse\u001b[0m\u001b[1;33m:\u001b[0m\u001b[1;33m\u001b[0m\u001b[1;33m\u001b[0m\u001b[0m\n\u001b[0;32m    575\u001b[0m             \u001b[1;32mwhile\u001b[0m \u001b[1;32mnot\u001b[0m \u001b[0mis_fp_closed\u001b[0m\u001b[1;33m(\u001b[0m\u001b[0mself\u001b[0m\u001b[1;33m.\u001b[0m\u001b[0m_fp\u001b[0m\u001b[1;33m)\u001b[0m\u001b[1;33m:\u001b[0m\u001b[1;33m\u001b[0m\u001b[1;33m\u001b[0m\u001b[0m\n\u001b[1;32m--> 576\u001b[1;33m                 \u001b[0mdata\u001b[0m \u001b[1;33m=\u001b[0m \u001b[0mself\u001b[0m\u001b[1;33m.\u001b[0m\u001b[0mread\u001b[0m\u001b[1;33m(\u001b[0m\u001b[0mamt\u001b[0m\u001b[1;33m=\u001b[0m\u001b[0mamt\u001b[0m\u001b[1;33m,\u001b[0m \u001b[0mdecode_content\u001b[0m\u001b[1;33m=\u001b[0m\u001b[0mdecode_content\u001b[0m\u001b[1;33m)\u001b[0m\u001b[1;33m\u001b[0m\u001b[1;33m\u001b[0m\u001b[0m\n\u001b[0m\u001b[0;32m    577\u001b[0m \u001b[1;33m\u001b[0m\u001b[0m\n\u001b[0;32m    578\u001b[0m                 \u001b[1;32mif\u001b[0m \u001b[0mdata\u001b[0m\u001b[1;33m:\u001b[0m\u001b[1;33m\u001b[0m\u001b[1;33m\u001b[0m\u001b[0m\n",
      "\u001b[1;32mC:\\ProgramData\\Anaconda3\\lib\\site-packages\\urllib3\\response.py\u001b[0m in \u001b[0;36mread\u001b[1;34m(self, amt, decode_content, cache_content)\u001b[0m\n\u001b[0;32m    517\u001b[0m             \u001b[1;32melse\u001b[0m\u001b[1;33m:\u001b[0m\u001b[1;33m\u001b[0m\u001b[1;33m\u001b[0m\u001b[0m\n\u001b[0;32m    518\u001b[0m                 \u001b[0mcache_content\u001b[0m \u001b[1;33m=\u001b[0m \u001b[1;32mFalse\u001b[0m\u001b[1;33m\u001b[0m\u001b[1;33m\u001b[0m\u001b[0m\n\u001b[1;32m--> 519\u001b[1;33m                 \u001b[0mdata\u001b[0m \u001b[1;33m=\u001b[0m \u001b[0mself\u001b[0m\u001b[1;33m.\u001b[0m\u001b[0m_fp\u001b[0m\u001b[1;33m.\u001b[0m\u001b[0mread\u001b[0m\u001b[1;33m(\u001b[0m\u001b[0mamt\u001b[0m\u001b[1;33m)\u001b[0m \u001b[1;32mif\u001b[0m \u001b[1;32mnot\u001b[0m \u001b[0mfp_closed\u001b[0m \u001b[1;32melse\u001b[0m \u001b[1;34mb\"\"\u001b[0m\u001b[1;33m\u001b[0m\u001b[1;33m\u001b[0m\u001b[0m\n\u001b[0m\u001b[0;32m    520\u001b[0m                 if (\n\u001b[0;32m    521\u001b[0m                     \u001b[0mamt\u001b[0m \u001b[1;33m!=\u001b[0m \u001b[1;36m0\u001b[0m \u001b[1;32mand\u001b[0m \u001b[1;32mnot\u001b[0m \u001b[0mdata\u001b[0m\u001b[1;33m\u001b[0m\u001b[1;33m\u001b[0m\u001b[0m\n",
      "\u001b[1;32mC:\\ProgramData\\Anaconda3\\lib\\http\\client.py\u001b[0m in \u001b[0;36mread\u001b[1;34m(self, amt)\u001b[0m\n\u001b[0;32m    460\u001b[0m             \u001b[1;31m# Amount is given, implement using readinto\u001b[0m\u001b[1;33m\u001b[0m\u001b[1;33m\u001b[0m\u001b[0m\n\u001b[0;32m    461\u001b[0m             \u001b[0mb\u001b[0m \u001b[1;33m=\u001b[0m \u001b[0mbytearray\u001b[0m\u001b[1;33m(\u001b[0m\u001b[0mamt\u001b[0m\u001b[1;33m)\u001b[0m\u001b[1;33m\u001b[0m\u001b[1;33m\u001b[0m\u001b[0m\n\u001b[1;32m--> 462\u001b[1;33m             \u001b[0mn\u001b[0m \u001b[1;33m=\u001b[0m \u001b[0mself\u001b[0m\u001b[1;33m.\u001b[0m\u001b[0mreadinto\u001b[0m\u001b[1;33m(\u001b[0m\u001b[0mb\u001b[0m\u001b[1;33m)\u001b[0m\u001b[1;33m\u001b[0m\u001b[1;33m\u001b[0m\u001b[0m\n\u001b[0m\u001b[0;32m    463\u001b[0m             \u001b[1;32mreturn\u001b[0m \u001b[0mmemoryview\u001b[0m\u001b[1;33m(\u001b[0m\u001b[0mb\u001b[0m\u001b[1;33m)\u001b[0m\u001b[1;33m[\u001b[0m\u001b[1;33m:\u001b[0m\u001b[0mn\u001b[0m\u001b[1;33m]\u001b[0m\u001b[1;33m.\u001b[0m\u001b[0mtobytes\u001b[0m\u001b[1;33m(\u001b[0m\u001b[1;33m)\u001b[0m\u001b[1;33m\u001b[0m\u001b[1;33m\u001b[0m\u001b[0m\n\u001b[0;32m    464\u001b[0m         \u001b[1;32melse\u001b[0m\u001b[1;33m:\u001b[0m\u001b[1;33m\u001b[0m\u001b[1;33m\u001b[0m\u001b[0m\n",
      "\u001b[1;32mC:\\ProgramData\\Anaconda3\\lib\\http\\client.py\u001b[0m in \u001b[0;36mreadinto\u001b[1;34m(self, b)\u001b[0m\n\u001b[0;32m    504\u001b[0m         \u001b[1;31m# connection, and the user is reading more bytes than will be provided\u001b[0m\u001b[1;33m\u001b[0m\u001b[1;33m\u001b[0m\u001b[0m\n\u001b[0;32m    505\u001b[0m         \u001b[1;31m# (for example, reading in 1k chunks)\u001b[0m\u001b[1;33m\u001b[0m\u001b[1;33m\u001b[0m\u001b[0m\n\u001b[1;32m--> 506\u001b[1;33m         \u001b[0mn\u001b[0m \u001b[1;33m=\u001b[0m \u001b[0mself\u001b[0m\u001b[1;33m.\u001b[0m\u001b[0mfp\u001b[0m\u001b[1;33m.\u001b[0m\u001b[0mreadinto\u001b[0m\u001b[1;33m(\u001b[0m\u001b[0mb\u001b[0m\u001b[1;33m)\u001b[0m\u001b[1;33m\u001b[0m\u001b[1;33m\u001b[0m\u001b[0m\n\u001b[0m\u001b[0;32m    507\u001b[0m         \u001b[1;32mif\u001b[0m \u001b[1;32mnot\u001b[0m \u001b[0mn\u001b[0m \u001b[1;32mand\u001b[0m \u001b[0mb\u001b[0m\u001b[1;33m:\u001b[0m\u001b[1;33m\u001b[0m\u001b[1;33m\u001b[0m\u001b[0m\n\u001b[0;32m    508\u001b[0m             \u001b[1;31m# Ideally, we would raise IncompleteRead if the content-length\u001b[0m\u001b[1;33m\u001b[0m\u001b[1;33m\u001b[0m\u001b[0m\n",
      "\u001b[1;32mC:\\ProgramData\\Anaconda3\\lib\\socket.py\u001b[0m in \u001b[0;36mreadinto\u001b[1;34m(self, b)\u001b[0m\n\u001b[0;32m    702\u001b[0m         \u001b[1;32mwhile\u001b[0m \u001b[1;32mTrue\u001b[0m\u001b[1;33m:\u001b[0m\u001b[1;33m\u001b[0m\u001b[1;33m\u001b[0m\u001b[0m\n\u001b[0;32m    703\u001b[0m             \u001b[1;32mtry\u001b[0m\u001b[1;33m:\u001b[0m\u001b[1;33m\u001b[0m\u001b[1;33m\u001b[0m\u001b[0m\n\u001b[1;32m--> 704\u001b[1;33m                 \u001b[1;32mreturn\u001b[0m \u001b[0mself\u001b[0m\u001b[1;33m.\u001b[0m\u001b[0m_sock\u001b[0m\u001b[1;33m.\u001b[0m\u001b[0mrecv_into\u001b[0m\u001b[1;33m(\u001b[0m\u001b[0mb\u001b[0m\u001b[1;33m)\u001b[0m\u001b[1;33m\u001b[0m\u001b[1;33m\u001b[0m\u001b[0m\n\u001b[0m\u001b[0;32m    705\u001b[0m             \u001b[1;32mexcept\u001b[0m \u001b[0mtimeout\u001b[0m\u001b[1;33m:\u001b[0m\u001b[1;33m\u001b[0m\u001b[1;33m\u001b[0m\u001b[0m\n\u001b[0;32m    706\u001b[0m                 \u001b[0mself\u001b[0m\u001b[1;33m.\u001b[0m\u001b[0m_timeout_occurred\u001b[0m \u001b[1;33m=\u001b[0m \u001b[1;32mTrue\u001b[0m\u001b[1;33m\u001b[0m\u001b[1;33m\u001b[0m\u001b[0m\n",
      "\u001b[1;32mC:\\ProgramData\\Anaconda3\\lib\\ssl.py\u001b[0m in \u001b[0;36mrecv_into\u001b[1;34m(self, buffer, nbytes, flags)\u001b[0m\n\u001b[0;32m   1239\u001b[0m                   \u001b[1;34m\"non-zero flags not allowed in calls to recv_into() on %s\"\u001b[0m \u001b[1;33m%\u001b[0m\u001b[1;33m\u001b[0m\u001b[1;33m\u001b[0m\u001b[0m\n\u001b[0;32m   1240\u001b[0m                   self.__class__)\n\u001b[1;32m-> 1241\u001b[1;33m             \u001b[1;32mreturn\u001b[0m \u001b[0mself\u001b[0m\u001b[1;33m.\u001b[0m\u001b[0mread\u001b[0m\u001b[1;33m(\u001b[0m\u001b[0mnbytes\u001b[0m\u001b[1;33m,\u001b[0m \u001b[0mbuffer\u001b[0m\u001b[1;33m)\u001b[0m\u001b[1;33m\u001b[0m\u001b[1;33m\u001b[0m\u001b[0m\n\u001b[0m\u001b[0;32m   1242\u001b[0m         \u001b[1;32melse\u001b[0m\u001b[1;33m:\u001b[0m\u001b[1;33m\u001b[0m\u001b[1;33m\u001b[0m\u001b[0m\n\u001b[0;32m   1243\u001b[0m             \u001b[1;32mreturn\u001b[0m \u001b[0msuper\u001b[0m\u001b[1;33m(\u001b[0m\u001b[1;33m)\u001b[0m\u001b[1;33m.\u001b[0m\u001b[0mrecv_into\u001b[0m\u001b[1;33m(\u001b[0m\u001b[0mbuffer\u001b[0m\u001b[1;33m,\u001b[0m \u001b[0mnbytes\u001b[0m\u001b[1;33m,\u001b[0m \u001b[0mflags\u001b[0m\u001b[1;33m)\u001b[0m\u001b[1;33m\u001b[0m\u001b[1;33m\u001b[0m\u001b[0m\n",
      "\u001b[1;32mC:\\ProgramData\\Anaconda3\\lib\\ssl.py\u001b[0m in \u001b[0;36mread\u001b[1;34m(self, len, buffer)\u001b[0m\n\u001b[0;32m   1097\u001b[0m         \u001b[1;32mtry\u001b[0m\u001b[1;33m:\u001b[0m\u001b[1;33m\u001b[0m\u001b[1;33m\u001b[0m\u001b[0m\n\u001b[0;32m   1098\u001b[0m             \u001b[1;32mif\u001b[0m \u001b[0mbuffer\u001b[0m \u001b[1;32mis\u001b[0m \u001b[1;32mnot\u001b[0m \u001b[1;32mNone\u001b[0m\u001b[1;33m:\u001b[0m\u001b[1;33m\u001b[0m\u001b[1;33m\u001b[0m\u001b[0m\n\u001b[1;32m-> 1099\u001b[1;33m                 \u001b[1;32mreturn\u001b[0m \u001b[0mself\u001b[0m\u001b[1;33m.\u001b[0m\u001b[0m_sslobj\u001b[0m\u001b[1;33m.\u001b[0m\u001b[0mread\u001b[0m\u001b[1;33m(\u001b[0m\u001b[0mlen\u001b[0m\u001b[1;33m,\u001b[0m \u001b[0mbuffer\u001b[0m\u001b[1;33m)\u001b[0m\u001b[1;33m\u001b[0m\u001b[1;33m\u001b[0m\u001b[0m\n\u001b[0m\u001b[0;32m   1100\u001b[0m             \u001b[1;32melse\u001b[0m\u001b[1;33m:\u001b[0m\u001b[1;33m\u001b[0m\u001b[1;33m\u001b[0m\u001b[0m\n\u001b[0;32m   1101\u001b[0m                 \u001b[1;32mreturn\u001b[0m \u001b[0mself\u001b[0m\u001b[1;33m.\u001b[0m\u001b[0m_sslobj\u001b[0m\u001b[1;33m.\u001b[0m\u001b[0mread\u001b[0m\u001b[1;33m(\u001b[0m\u001b[0mlen\u001b[0m\u001b[1;33m)\u001b[0m\u001b[1;33m\u001b[0m\u001b[1;33m\u001b[0m\u001b[0m\n",
      "\u001b[1;31mKeyboardInterrupt\u001b[0m: "
     ]
    }
   ],
   "source": [
    "for year in range(2019,2020):\n",
    "    for month in months:\n",
    "        print(month+'_'+str(year))\n",
    "        #header\n",
    "        link = 'https://www.sbp.org.pk/reports/stat_reviews/Bulletin/'+str(year)+'/'+month+'/'+'/BankingSystem.pdf'\n",
    "        pdf_content = info(link)\n",
    "        header = pdf_content.split('\\n')[pdf_content.split('\\n').index(\"Liabilities/Assets\")+1:pdf_content.split('\\n').index(\"Liabilities\")]\n",
    "        header_trans =  [ele for ele in header if ele.strip()]\n",
    "\n",
    "\n",
    "        if  header_trans[4] == 'Dec':\n",
    "            header1 = header_trans[0] + \"_\"+ header_trans[4]\n",
    "            header2 = header_trans[1] + \"_\"+ header_trans[5]\n",
    "            header3 = header_trans[1] + \"_\"+ header_trans[6]\n",
    "            header4 = header_trans[2] + \"_\"+ header_trans[7]\n",
    "            header5 = header_trans[2] + \"_\"+ header_trans[8]\n",
    "            header6 = header_trans[3] + \"_\"+ header_trans[9]\n",
    "            header7 = header_trans[3] + \"_\"+ header_trans[10]\n",
    "\n",
    "        else:\n",
    "\n",
    "            header1 = header_trans[0] + \"_\"+ header_trans[4]\n",
    "            header2 = header_trans[0] + \"_\"+ header_trans[5]\n",
    "            header3 = header_trans[1] + \"_\"+ header_trans[6]\n",
    "            header4 = header_trans[1] + \"_\"+ header_trans[7]\n",
    "            header5 = header_trans[2] + \"_\"+ header_trans[8]\n",
    "            header6 = header_trans[2] + \"_\"+ header_trans[9]\n",
    "            header7 = header_trans[3] + \"_\"+ header_trans[10]\n",
    "        list1 = []\n",
    "        list1.append(header1)\n",
    "        list1.append(header2)\n",
    "        list1.append(header3)\n",
    "        list1.append(header4)\n",
    "        list1.append(header5)\n",
    "        list1.append(header6)\n",
    "        list1.append(header7) \n",
    "        \n",
    "        content= pdf_content.split('\\n')\n",
    "        content_trans = [ele for ele in content if ele.strip()]\n",
    "        \n",
    "        Liabilities = content_trans[content_trans.index(\"Liabilities\")+1:content_trans.index(\"Demand Deposits\")]\n",
    "        Liabilities_capital = Liabilities[Liabilities.index(\"Capital\")+1:Liabilities.index(\"Reserves\")]\n",
    "        Liabilities_Reserves = Liabilities[Liabilities.index(\"Reserves\")+1:]\n",
    "        demnand_deposit = content_trans[content_trans.index(\"Demand Deposits\"):content_trans.index(\"Borrowings from\")-27:]\n",
    "        demnand_deposit_total = demnand_deposit[demnand_deposit.index(\"Demand Deposits\")+1:demnand_deposit.index(\"Scheduled Banks\")-1]\n",
    "        demnand_deposit_scheduele_banks =  demnand_deposit[demnand_deposit.index(\"Scheduled Banks\")+1:demnand_deposit.index(\"Others\")-1]\n",
    "        demnand_deposit_others =  demnand_deposit[demnand_deposit.index(\"Others\")+1:]\n",
    "        time_deposits = content_trans[content_trans.index(\"Borrowings from\")-27:content_trans.index(\"Borrowings from\")]\n",
    "        time_deposits_total =  time_deposits[time_deposits.index(\"Scheduled Banks\")-8:time_deposits.index(\"Scheduled Banks\")-1]\n",
    "        time_deposits_scheduele_banks =  time_deposits[time_deposits.index(\"Scheduled Banks\")+1:time_deposits.index(\"Others\")-1]\n",
    "        time_deposits_others =  time_deposits[time_deposits.index(\"Others\")+1:]\n",
    "        borrowing_from =  content_trans[content_trans.index(\"Borrowings from\"):content_trans.index(\"Assets\")]\n",
    "        borrowing_from_total= borrowing_from[borrowing_from.index(\"Borrowings from\")+1:borrowing_from.index(\".  State Bank of Pakistan\")-1]\n",
    "        borrowing_from_sbp = borrowing_from[borrowing_from.index(\".  State Bank of Pakistan\")+1:borrowing_from.index(\"Banks Abroad\")-1]\n",
    "        borrowing_from_banks_abroad = borrowing_from[borrowing_from.index(\"Banks Abroad\")+1:borrowing_from.index(\"Other Scheduled Banks\")-1]\n",
    "        borrowing_from_other_schedueled_banks = borrowing_from[borrowing_from.index(\"Other Scheduled Banks\")+1:borrowing_from.index(\"Other Scheduled Banks\")+8]\n",
    "        HeadOffice_InterBank_Adjustment = borrowing_from[borrowing_from.index(\"Bank Adjustment\")+1:borrowing_from.index(\"Contingent Liabilities as per contra\")]\n",
    "        cotigent_liablities_AsPerContra = borrowing_from[borrowing_from.index(\"Contingent Liabilities as per contra\")+1:borrowing_from.index(\"Other Liabilities\")]\n",
    "        other_liablities =  borrowing_from[borrowing_from.index(\"Other Liabilities\")+1:borrowing_from.index(\"Total Liabilities / Assets\")]\n",
    "        Total_Libilities_Assets = borrowing_from[borrowing_from.index(\"Total Liabilities / Assets\")+1:]\n",
    "        assets =  content_trans[content_trans.index(\"Assets\")+1:]\n",
    "        cash_total = assets[assets.index(\"Cash\")+1:assets.index(\"Notes, Coins and Silver\")-1]\n",
    "        Notes_Coins_Silver = assets[assets.index(\"Notes, Coins and Silver\")+1:assets.index(\"Balances with State Bank of Pakistan\")-1]\n",
    "        balances_with_sbp = assets[assets.index(\"Balances with State Bank of Pakistan\")+1:assets.index(\"Balances with Other Scheduled Banks\")-1]\n",
    "        balances_with_other_schedueled_bank = assets[assets.index(\"Balances with Other Scheduled Banks\")+1:assets.index(\"Balances held Abroad\")]\n",
    "        balances_held_abroad =  assets[assets.index(\"Balances held Abroad\")+1:assets.index(\"Balances held Abroad\")+8]\n",
    "        bill_purchased_discounts = assets[assets.index(\"Advances to\")-7:assets.index(\"Advances to\")]\n",
    "        total_advance_to =  assets[assets.index(\"Advances to\")+1:assets.index(\"Scheduled Banks\")-1]\n",
    "        advance_to_scheduele_banks=  assets[assets.index(\"Scheduled Banks\")+1:assets.index(\"Others\")-1]\n",
    "        advance_to_others =  assets[assets.index(\"Others\")+1:assets.index(\"Others\")+8]\n",
    "        Investment_securities_shares =   assets[assets.index(\"Federal Government Securities\")-8:assets.index(\"Federal Government Securities\")-1]\n",
    "        Federal_Government_Securities =  assets[assets.index(\"Federal Government Securities\")+1:assets.index(\"Treasury Bills\")-1]\n",
    "        Treasury_Bills =  assets[assets.index(\"Treasury Bills\")+1:assets.index(\"Provincial Governments Securities\")-1]\n",
    "        Provincial_Government_Securities = assets[assets.index(\"Provincial Governments Securities\")+1:assets.index(\"Foreign Securities\")-1]\n",
    "        foreign_securities =  assets[assets.index(\"Foreign Securities\")+1:assets.index(\"Bank Premises\")-9]\n",
    "        other_investment =  assets[assets.index(\"Foreign Securities\")+1:assets.index(\"Bank Premises\")][assets[assets.index(\"Foreign Securities\")+1:assets.index(\"Bank Premises\")].index(\"Others\")+1:]\n",
    "        Bank_Premises = assets[assets.index(\"Bank Premises\")+1:assets.index(\"Head Office and Inter\")]\n",
    "        HeadOffice_Inter_Bank_Adjustment =  assets[assets.index(\"Bank Adjustment\")+1:assets.index(\"Contingent Assets as per contra\")]\n",
    "        Contingent_Assets_asper_contra = assets[assets.index(\"Contingent Assets as per contra\")+1:assets.index(\"Other Assets\")]\n",
    "        Other_Assets =  assets[assets.index(\"Other Assets\")+1:assets.index(\"Other Assets\")+8]\n",
    "        all_columns = [Liabilities_capital,Liabilities_Reserves,demnand_deposit_total,demnand_deposit_scheduele_banks,demnand_deposit_others,time_deposits_total,time_deposits_scheduele_banks,time_deposits_others,borrowing_from_total,borrowing_from_sbp,borrowing_from_banks_abroad,borrowing_from_other_schedueled_banks,HeadOffice_InterBank_Adjustment,cotigent_liablities_AsPerContra,other_liablities,Total_Libilities_Assets,cash_total,Notes_Coins_Silver,balances_with_sbp,balances_with_other_schedueled_bank,balances_held_abroad,bill_purchased_discounts,total_advance_to,advance_to_scheduele_banks,advance_to_others,Investment_securities_shares,Federal_Government_Securities,Treasury_Bills,foreign_securities,other_investment,Bank_Premises,HeadOffice_Inter_Bank_Adjustment,Contingent_Assets_asper_contra,Other_Assets]\n",
    "        all_headers = ['Liabilities_capital','Liabilities_Reserves','demnand_deposit_total','demnand_deposit_scheduele_banks','demnand_deposit_others','time_deposits_total','time_deposits_scheduele_banks','time_deposits_others','borrowing_from_total','borrowing_from_sbp','borrowing_from_banks_abroad','borrowing_from_other_schedueled_banks','HeadOffice_InterBank_Adjustment','cotigent_liablities_AsPerContra','other_liablities','Total_Libilities_Assets','cash_total','Notes_Coins_Silver','balances_with_sbp','balances_with_other_schedueled_bank','balances_held_abroad','bill_purchased_discounts','total_advance_to','advance_to_scheduele_banks','advance_to_others','Investment_securities_shares','Federal_Government_Securities','Treasury_Bills','foreign_securities','other_investment','Bank_Premises','HeadOffice_Inter_Bank_Adjustment','Contingent_Assets_asper_contra','Other_Assets']\n",
    "        df1 = pd.DataFrame(all_columns, columns=list1, index=all_headers)\n",
    "        year_month = str(year)+'_'+month\n",
    "        df1['Extract_Month'] = year_month\n",
    "        df1.to_csv('sbp_excel/'+year_month+'.csv')        \n",
    "        \n",
    "\n",
    "\n",
    "        \n",
    "\n",
    "\n",
    "\n",
    "\n",
    "        \n",
    "        \n",
    "        \n",
    "        \n",
    "        \n",
    "        "
   ]
  },
  {
   "cell_type": "code",
   "execution_count": null,
   "id": "49c0a473",
   "metadata": {},
   "outputs": [],
   "source": []
  },
  {
   "cell_type": "code",
   "execution_count": null,
   "id": "a6cbe49d",
   "metadata": {},
   "outputs": [],
   "source": []
  },
  {
   "cell_type": "code",
   "execution_count": null,
   "id": "d09dccc1",
   "metadata": {},
   "outputs": [],
   "source": []
  },
  {
   "cell_type": "code",
   "execution_count": null,
   "id": "625bed85",
   "metadata": {},
   "outputs": [],
   "source": []
  },
  {
   "cell_type": "code",
   "execution_count": null,
   "id": "53cb5328",
   "metadata": {},
   "outputs": [],
   "source": []
  },
  {
   "cell_type": "code",
   "execution_count": null,
   "id": "3b60ea55",
   "metadata": {},
   "outputs": [],
   "source": []
  },
  {
   "cell_type": "code",
   "execution_count": null,
   "id": "fa0b14c1",
   "metadata": {},
   "outputs": [],
   "source": []
  },
  {
   "cell_type": "code",
   "execution_count": null,
   "id": "c9a34013",
   "metadata": {},
   "outputs": [],
   "source": []
  },
  {
   "cell_type": "code",
   "execution_count": null,
   "id": "dfb2e95a",
   "metadata": {},
   "outputs": [],
   "source": []
  },
  {
   "cell_type": "code",
   "execution_count": null,
   "id": "fa509f18",
   "metadata": {},
   "outputs": [],
   "source": []
  },
  {
   "cell_type": "code",
   "execution_count": null,
   "id": "eb446a59",
   "metadata": {},
   "outputs": [],
   "source": []
  },
  {
   "cell_type": "code",
   "execution_count": null,
   "id": "fe0c5c01",
   "metadata": {},
   "outputs": [],
   "source": []
  },
  {
   "cell_type": "code",
   "execution_count": null,
   "id": "9bf7411c",
   "metadata": {},
   "outputs": [],
   "source": []
  },
  {
   "cell_type": "code",
   "execution_count": null,
   "id": "74e76efa",
   "metadata": {},
   "outputs": [],
   "source": []
  },
  {
   "cell_type": "code",
   "execution_count": null,
   "id": "7f6a5474",
   "metadata": {},
   "outputs": [],
   "source": []
  },
  {
   "cell_type": "code",
   "execution_count": null,
   "id": "aa9ffddf",
   "metadata": {},
   "outputs": [],
   "source": []
  },
  {
   "cell_type": "code",
   "execution_count": null,
   "id": "204f0354",
   "metadata": {},
   "outputs": [],
   "source": []
  },
  {
   "cell_type": "code",
   "execution_count": 1,
   "id": "ad567506",
   "metadata": {},
   "outputs": [],
   "source": [
    "import pandas as pd\n",
    "from PyPDF2 import PdfFileReader\n",
    "import requests\n",
    "import io\n",
    "from bs4 import BeautifulSoup"
   ]
  },
  {
   "cell_type": "code",
   "execution_count": 2,
   "id": "18e4d93b",
   "metadata": {},
   "outputs": [],
   "source": [
    "def info(pdf_path):\n",
    "\n",
    "\t# used get method to get the pdf file\n",
    "\tresponse = requests.get(pdf_path)\n",
    "\n",
    "\t# response.content generate binary code for\n",
    "\t# string function\n",
    "\twith io.BytesIO(response.content) as f:\n",
    "\n",
    "\t\t# initialized the pdf\n",
    "\t\tpdf = PdfFileReader(f)\n",
    "\n",
    "\t\t# all info about pdf\n",
    "\t\tinformation = pdf.getDocumentInfo()\n",
    "\t\tnumber_of_pages = pdf.getNumPages()\n",
    "\t\tpageObj = pdf.getPage(0)\n",
    "\t\tcontent  = pageObj.extractText()\n",
    "        \n",
    "        \n",
    "        \n",
    "        \n",
    "\n",
    "\ttxt = f\"\"\"\n",
    "\tInformation about {pdf_path}:\n",
    "\t\n",
    "\tAuthor: {information.author}\n",
    "\tCreator: {information.creator}\n",
    "\tProducer: {information.producer}\n",
    "\tSubject: {information.subject}\n",
    "\tTitle: {information.title}\n",
    "\tNumber of pages: {number_of_pages}\n",
    "    Content : {content}\n",
    "\t\"\"\"\n",
    "\ttxt1 = f\"\"\"\n",
    "3    Content : {content}\n",
    "\t\"\"\"        \n",
    "\t#print(txt1)\n",
    "\t\n",
    "\treturn txt1\n"
   ]
  },
  {
   "cell_type": "code",
   "execution_count": 3,
   "id": "c74883e5",
   "metadata": {},
   "outputs": [],
   "source": [
    "year = 2019\n",
    "month = 'Feb'"
   ]
  },
  {
   "cell_type": "code",
   "execution_count": 4,
   "id": "e2b5f099",
   "metadata": {},
   "outputs": [],
   "source": [
    "#header\n",
    "link = 'https://www.sbp.org.pk/reports/stat_reviews/Bulletin/'+str(year)+'/'+month+'/'+'/BankingSystem.pdf'\n",
    "pdf_content = info(link)\n",
    "header = pdf_content.split('\\n')[pdf_content.split('\\n').index(\"Liabilities/Assets\")+1:pdf_content.split('\\n').index(\"Liabilities\")]\n",
    "header_trans =  [ele for ele in header if ele.strip()]"
   ]
  },
  {
   "cell_type": "code",
   "execution_count": 5,
   "id": "4aca6884",
   "metadata": {},
   "outputs": [
    {
     "data": {
      "text/plain": [
       "['2015',\n",
       " '2016',\n",
       " '2017',\n",
       " '2018',\n",
       " 'Jun',\n",
       " 'Dec',\n",
       " 'Jun',\n",
       " 'Dec',\n",
       " 'Jun',\n",
       " 'Dec',\n",
       " 'Jun']"
      ]
     },
     "execution_count": 5,
     "metadata": {},
     "output_type": "execute_result"
    }
   ],
   "source": [
    "header_trans"
   ]
  },
  {
   "cell_type": "code",
   "execution_count": 6,
   "id": "8804ae35",
   "metadata": {},
   "outputs": [],
   "source": [
    "if  header_trans[4] == 'Dec':\n",
    "    header1 = header_trans[0] + \"_\"+ header_trans[4]\n",
    "    header2 = header_trans[1] + \"_\"+ header_trans[5]\n",
    "    header3 = header_trans[1] + \"_\"+ header_trans[6]\n",
    "    header4 = header_trans[2] + \"_\"+ header_trans[7]\n",
    "    header5 = header_trans[2] + \"_\"+ header_trans[8]\n",
    "    header6 = header_trans[3] + \"_\"+ header_trans[9]\n",
    "    header7 = header_trans[3] + \"_\"+ header_trans[10]\n",
    "    \n",
    "else:\n",
    "    \n",
    "    header1 = header_trans[0] + \"_\"+ header_trans[4]\n",
    "    header2 = header_trans[0] + \"_\"+ header_trans[5]\n",
    "    header3 = header_trans[1] + \"_\"+ header_trans[6]\n",
    "    header4 = header_trans[1] + \"_\"+ header_trans[7]\n",
    "    header5 = header_trans[2] + \"_\"+ header_trans[8]\n",
    "    header6 = header_trans[2] + \"_\"+ header_trans[9]\n",
    "    header7 = header_trans[3] + \"_\"+ header_trans[10]\n",
    "\n",
    "    "
   ]
  },
  {
   "cell_type": "code",
   "execution_count": 7,
   "id": "0e39d6c7",
   "metadata": {},
   "outputs": [
    {
     "data": {
      "text/plain": [
       "['2015_Jun',\n",
       " '2015_Dec',\n",
       " '2016_Jun',\n",
       " '2016_Dec',\n",
       " '2017_Jun',\n",
       " '2017_Dec',\n",
       " '2018_Jun']"
      ]
     },
     "execution_count": 7,
     "metadata": {},
     "output_type": "execute_result"
    }
   ],
   "source": [
    "list1 = []\n",
    "list1.append(header1)\n",
    "list1.append(header2)\n",
    "list1.append(header3)\n",
    "list1.append(header4)\n",
    "list1.append(header5)\n",
    "list1.append(header6)\n",
    "list1.append(header7)\n",
    "list1"
   ]
  },
  {
   "cell_type": "code",
   "execution_count": 8,
   "id": "5cfee7b0",
   "metadata": {},
   "outputs": [
    {
     "data": {
      "text/plain": [
       "['3    Content : 26',\n",
       " \"3.1   Scheduled Banks' Liabilities and Assets\",\n",
       " '(Million Rupees)',\n",
       " 'Liabilities/Assets',\n",
       " '2015',\n",
       " '2016',\n",
       " '2017',\n",
       " '2018',\n",
       " 'Jun',\n",
       " 'Dec',\n",
       " 'Jun',\n",
       " 'Dec',\n",
       " 'Jun',\n",
       " 'Dec',\n",
       " 'Jun',\n",
       " 'Liabilities',\n",
       " 'Capital',\n",
       " '501,119.9',\n",
       " '540,096.2',\n",
       " '548,631.7',\n",
       " '552,067.2',\n",
       " '657,627.1',\n",
       " '517,287.1',\n",
       " '519,408.6',\n",
       " 'Reserves',\n",
       " '615,757.0',\n",
       " '641,746.7',\n",
       " '620,448.7',\n",
       " '670,241.5',\n",
       " '639,464.0',\n",
       " '756,858.3',\n",
       " '773,881.7',\n",
       " 'Demand Deposits',\n",
       " '5,172,476.2',\n",
       " '5,093,745.0',\n",
       " '5,561,224.4',\n",
       " '6,091,277.9',\n",
       " '6,625,035.0',\n",
       " '7,346,818.9',\n",
       " '8,067,967.7',\n",
       " '(a)',\n",
       " 'Scheduled Banks',\n",
       " '100,097.7',\n",
       " '130,265.0',\n",
       " '125,696.4',\n",
       " '156,691.2',\n",
       " '137,339.5',\n",
       " '139,141.6',\n",
       " '135,519.5',\n",
       " '(b)',\n",
       " 'Others',\n",
       " '5,072,378.6',\n",
       " '4,963,480.0',\n",
       " '5,435,528.0',\n",
       " '5,934,586.7',\n",
       " '6,487,695.6',\n",
       " '7,207,677.3',\n",
       " '7,932,448.2',\n",
       " 'Time ',\n",
       " 'Deposits',\n",
       " '4,095,938.6',\n",
       " '4,471,553.0',\n",
       " '4,735,749.1',\n",
       " '4,922,988.5',\n",
       " '5,116,374.3',\n",
       " '4,794,920.0',\n",
       " '4,732,409.4',\n",
       " '(a)',\n",
       " 'Scheduled Banks',\n",
       " '15,308.1',\n",
       " '25,153.3',\n",
       " '13,620.1',\n",
       " '16,316.8',\n",
       " '11,969.3',\n",
       " '55,704.4',\n",
       " '15,807.8',\n",
       " '(b)',\n",
       " 'Others',\n",
       " '4,080,630.5',\n",
       " '4,446,399.7',\n",
       " '4,722,129.0',\n",
       " '4,906,671.7',\n",
       " '5,104,405.0',\n",
       " '4,739,215.6',\n",
       " '4,716,601.7',\n",
       " 'Borrowings from',\n",
       " '1,270,882.4',\n",
       " '1,671,566.8',\n",
       " '2,205,538.8',\n",
       " '1,813,770.6',\n",
       " '2,598,567.8',\n",
       " '2,948,938.7',\n",
       " '2,967,655.0',\n",
       " '(a)',\n",
       " '.  State Bank of Pakistan',\n",
       " '917,993.5',\n",
       " '1,412,514.5',\n",
       " '1,787,927.8',\n",
       " '1,196,829.5',\n",
       " '1,852,645.3',\n",
       " '2,095,843.3',\n",
       " '2,025,865.8',\n",
       " '(b)',\n",
       " 'Banks Abroad',\n",
       " '107,372.1',\n",
       " '129,203.3',\n",
       " '172,580.1',\n",
       " '210,077.1',\n",
       " '318,209.0',\n",
       " '340,117.8',\n",
       " '358,304.7',\n",
       " '(c)',\n",
       " 'Other Scheduled Banks',\n",
       " '245,516.8',\n",
       " '129,849.0',\n",
       " '245,030.9',\n",
       " '406,864.0',\n",
       " '427,713.5',\n",
       " '512,977.5',\n",
       " '583,484.5',\n",
       " 'Head Office and Inter',\n",
       " '-',\n",
       " 'Bank Adjustment',\n",
       " '169,715.1',\n",
       " '262,859.0',\n",
       " '134,407.5',\n",
       " '149,948.3',\n",
       " '145,795.8',\n",
       " '127,658.8',\n",
       " '373,123.0',\n",
       " 'Contingent Liabilities as per contra',\n",
       " '4,193,278.7',\n",
       " '4,196,427.7',\n",
       " '4,446,871.7',\n",
       " '4,151,895.4',\n",
       " '5,092,265.8',\n",
       " '5,470,701.3',\n",
       " '8,415,608.8',\n",
       " 'Other Liabilities',\n",
       " '3,115,490.3',\n",
       " '3,435,634.1',\n",
       " '3,508,024.7',\n",
       " '4,269,817.7',\n",
       " '3,743,437.9',\n",
       " '5,590,176.9',\n",
       " '2,964,905.7',\n",
       " 'Total Liabilities / Assets',\n",
       " '19,134,658.2',\n",
       " '20,313,628.4',\n",
       " '21,760,896.7',\n",
       " '22,622,007.3',\n",
       " '24,618,567.7',\n",
       " '27,553,359.8',\n",
       " '28,814,960.0',\n",
       " 'Assets',\n",
       " 'Cash',\n",
       " '937,644.7',\n",
       " '813,373.2',\n",
       " '821,920.2',\n",
       " '1,113,358.3',\n",
       " '1,215,145.2',\n",
       " '1,258,728.2',\n",
       " '1,424,819.5',\n",
       " '(a)',\n",
       " 'Notes, Coins and Silver',\n",
       " '187,997.8',\n",
       " '190,966.5',\n",
       " '256,738.8',\n",
       " '212,555.5',\n",
       " '294,332.1',\n",
       " '238,297.8',\n",
       " '291,135.3',\n",
       " '(b) ',\n",
       " 'Balances with State Bank of Pakistan',\n",
       " '405,453.1',\n",
       " '415,475.4',\n",
       " '380,156.7',\n",
       " '636,117.9',\n",
       " '650,567.5',\n",
       " '718,680.5',\n",
       " '787,974.3',\n",
       " '(c)  ',\n",
       " 'Balances with Other Scheduled Banks',\n",
       " '344,193.8',\n",
       " '206,931.3',\n",
       " '185,024.7',\n",
       " '264,685.0',\n",
       " '270,245.6',\n",
       " '301,749.8',\n",
       " '345,709.9',\n",
       " 'Balances held Abroad',\n",
       " '186,453.2',\n",
       " '226,193.8',\n",
       " '188,926.2',\n",
       " '175,738.3',\n",
       " '217,541.2',\n",
       " '178,730.1',\n",
       " '207,590.3',\n",
       " 'Bills Purchased and Discounted',\n",
       " '201,422.5',\n",
       " '171,840.1',\n",
       " '190,090.3',\n",
       " '176,612.8',\n",
       " '208,966.9',\n",
       " '225,650.5',\n",
       " '241,353.6',\n",
       " 'Advances to',\n",
       " '4,643,595.7',\n",
       " '4,922,944.9',\n",
       " '5,198,093.1',\n",
       " '5,649,917.1',\n",
       " '6,047,133.8',\n",
       " '6,451,545.7',\n",
       " '7,201,209.9',\n",
       " '(a)',\n",
       " 'Scheduled Banks',\n",
       " '139,739.8',\n",
       " '178,894.1',\n",
       " '119,901.1',\n",
       " '246,686.9',\n",
       " '81,194.8',\n",
       " '145,084.1',\n",
       " '78,394.3',\n",
       " '(b)',\n",
       " 'Others',\n",
       " '4,503,855.8',\n",
       " '4,744,050.8',\n",
       " '5,078,192.0',\n",
       " '5,403,230.2',\n",
       " '5,965,939.0',\n",
       " '6,306,461.6',\n",
       " '7,122,815.6',\n",
       " 'Investment in Securities and Shares',\n",
       " '6,011,774.8',\n",
       " '6,752,158.1',\n",
       " '7,610,278.2',\n",
       " '7,268,792.7',\n",
       " '8,227,773.0',\n",
       " '8,605,039.7',\n",
       " '8,320,899.2',\n",
       " '(a)',\n",
       " 'Federal Government Securities',\n",
       " '3,017,006.1',\n",
       " '3,377,903.4',\n",
       " '3,975,046.5',\n",
       " '3,144,843.2',\n",
       " '3,374,796.2',\n",
       " '2,965,941.9',\n",
       " '2,454,521.7',\n",
       " '(b)',\n",
       " 'Treasury Bills',\n",
       " '2,164,377.3',\n",
       " '2,537,577.9',\n",
       " '2,666,090.3',\n",
       " '3,145,702.9',\n",
       " '3,783,600.4',\n",
       " '4,588,491.8',\n",
       " '4,773,462.6',\n",
       " '(c)',\n",
       " 'Provincial Governments Securities',\n",
       " '-',\n",
       " '-',\n",
       " '-',\n",
       " '-',\n",
       " '-',\n",
       " '-',\n",
       " '(d)',\n",
       " 'Foreign Securities',\n",
       " '104,955.0',\n",
       " '99,727.8',\n",
       " '185,504.3',\n",
       " '121,077.1',\n",
       " '236,707.6',\n",
       " '257,402.4',\n",
       " '161,122.5',\n",
       " '(e)',\n",
       " 'Others',\n",
       " '725,436.4',\n",
       " '736,949.0',\n",
       " '783,637.1',\n",
       " '857,169.5',\n",
       " '832,668.8',\n",
       " '793,203.5',\n",
       " '931,792.4',\n",
       " 'Bank Premises',\n",
       " '238,727.9',\n",
       " '244,496.3',\n",
       " '268,335.0',\n",
       " '256,711.9',\n",
       " '295,253.6',\n",
       " '329,884.8',\n",
       " '312,625.6',\n",
       " 'Head Office and Inter',\n",
       " '-',\n",
       " 'Bank Adjustment',\n",
       " '615,872.8',\n",
       " '933,679.9',\n",
       " '791,734.1',\n",
       " '1,340,189.5',\n",
       " '999,505.6',\n",
       " '378,230.7',\n",
       " '100,683.4',\n",
       " 'Contingent Assets as per contra',\n",
       " '4,193,278.7',\n",
       " '4,196,427.7',\n",
       " '4,446,871.7',\n",
       " '4,151,895.4',\n",
       " '5,092,265.8',\n",
       " '5,470,701.3',\n",
       " '8,415,608.8',\n",
       " 'Other Assets',\n",
       " '2,105,887.8',\n",
       " '2,052,514.4',\n",
       " '2,244,647.9',\n",
       " '2,488,791.4',\n",
       " '2,314,982.6',\n",
       " '4,654,848.8',\n",
       " '2,590,169.7',\n",
       " 'Source: Statistics & Data Warehouse Department, SBP']"
      ]
     },
     "execution_count": 8,
     "metadata": {},
     "output_type": "execute_result"
    }
   ],
   "source": [
    "content= pdf_content.split('\\n')\n",
    "content_trans = [ele for ele in content if ele.strip()]\n",
    "content_trans"
   ]
  },
  {
   "cell_type": "code",
   "execution_count": 9,
   "id": "170f2dfd",
   "metadata": {},
   "outputs": [],
   "source": [
    "# headers are fetched now it's time to fetech content for colums."
   ]
  },
  {
   "cell_type": "code",
   "execution_count": 10,
   "id": "f6554335",
   "metadata": {},
   "outputs": [],
   "source": [
    "Liabilities = content_trans[content_trans.index(\"Liabilities\")+1:content_trans.index(\"Demand Deposits\")]"
   ]
  },
  {
   "cell_type": "code",
   "execution_count": 11,
   "id": "debbcbe8",
   "metadata": {},
   "outputs": [
    {
     "data": {
      "text/plain": [
       "7"
      ]
     },
     "execution_count": 11,
     "metadata": {},
     "output_type": "execute_result"
    }
   ],
   "source": [
    "Liabilities_capital = Liabilities[Liabilities.index(\"Capital\")+1:Liabilities.index(\"Reserves\")]\n",
    "len(Liabilities_capital)"
   ]
  },
  {
   "cell_type": "code",
   "execution_count": 12,
   "id": "dbdb45a1",
   "metadata": {},
   "outputs": [
    {
     "data": {
      "text/plain": [
       "7"
      ]
     },
     "execution_count": 12,
     "metadata": {},
     "output_type": "execute_result"
    }
   ],
   "source": [
    "Liabilities_Reserves = Liabilities[Liabilities.index(\"Reserves\")+1:]\n",
    "len(Liabilities_Reserves)"
   ]
  },
  {
   "cell_type": "code",
   "execution_count": 13,
   "id": "87e2b7e6",
   "metadata": {},
   "outputs": [
    {
     "data": {
      "text/plain": [
       "['3    Content : 26',\n",
       " \"3.1   Scheduled Banks' Liabilities and Assets\",\n",
       " '(Million Rupees)',\n",
       " 'Liabilities/Assets',\n",
       " '2015',\n",
       " '2016',\n",
       " '2017',\n",
       " '2018',\n",
       " 'Jun',\n",
       " 'Dec',\n",
       " 'Jun',\n",
       " 'Dec',\n",
       " 'Jun',\n",
       " 'Dec',\n",
       " 'Jun',\n",
       " 'Liabilities',\n",
       " 'Capital',\n",
       " '501,119.9',\n",
       " '540,096.2',\n",
       " '548,631.7',\n",
       " '552,067.2',\n",
       " '657,627.1',\n",
       " '517,287.1',\n",
       " '519,408.6',\n",
       " 'Reserves',\n",
       " '615,757.0',\n",
       " '641,746.7',\n",
       " '620,448.7',\n",
       " '670,241.5',\n",
       " '639,464.0',\n",
       " '756,858.3',\n",
       " '773,881.7',\n",
       " 'Demand Deposits',\n",
       " '5,172,476.2',\n",
       " '5,093,745.0',\n",
       " '5,561,224.4',\n",
       " '6,091,277.9',\n",
       " '6,625,035.0',\n",
       " '7,346,818.9',\n",
       " '8,067,967.7',\n",
       " '(a)',\n",
       " 'Scheduled Banks',\n",
       " '100,097.7',\n",
       " '130,265.0',\n",
       " '125,696.4',\n",
       " '156,691.2',\n",
       " '137,339.5',\n",
       " '139,141.6',\n",
       " '135,519.5',\n",
       " '(b)',\n",
       " 'Others',\n",
       " '5,072,378.6',\n",
       " '4,963,480.0',\n",
       " '5,435,528.0',\n",
       " '5,934,586.7',\n",
       " '6,487,695.6',\n",
       " '7,207,677.3',\n",
       " '7,932,448.2',\n",
       " 'Time ',\n",
       " 'Deposits',\n",
       " '4,095,938.6',\n",
       " '4,471,553.0',\n",
       " '4,735,749.1',\n",
       " '4,922,988.5',\n",
       " '5,116,374.3',\n",
       " '4,794,920.0',\n",
       " '4,732,409.4',\n",
       " '(a)',\n",
       " 'Scheduled Banks',\n",
       " '15,308.1',\n",
       " '25,153.3',\n",
       " '13,620.1',\n",
       " '16,316.8',\n",
       " '11,969.3',\n",
       " '55,704.4',\n",
       " '15,807.8',\n",
       " '(b)',\n",
       " 'Others',\n",
       " '4,080,630.5',\n",
       " '4,446,399.7',\n",
       " '4,722,129.0',\n",
       " '4,906,671.7',\n",
       " '5,104,405.0',\n",
       " '4,739,215.6',\n",
       " '4,716,601.7',\n",
       " 'Borrowings from',\n",
       " '1,270,882.4',\n",
       " '1,671,566.8',\n",
       " '2,205,538.8',\n",
       " '1,813,770.6',\n",
       " '2,598,567.8',\n",
       " '2,948,938.7',\n",
       " '2,967,655.0',\n",
       " '(a)',\n",
       " '.  State Bank of Pakistan',\n",
       " '917,993.5',\n",
       " '1,412,514.5',\n",
       " '1,787,927.8',\n",
       " '1,196,829.5',\n",
       " '1,852,645.3',\n",
       " '2,095,843.3',\n",
       " '2,025,865.8',\n",
       " '(b)',\n",
       " 'Banks Abroad',\n",
       " '107,372.1',\n",
       " '129,203.3',\n",
       " '172,580.1',\n",
       " '210,077.1',\n",
       " '318,209.0',\n",
       " '340,117.8',\n",
       " '358,304.7',\n",
       " '(c)',\n",
       " 'Other Scheduled Banks',\n",
       " '245,516.8',\n",
       " '129,849.0',\n",
       " '245,030.9',\n",
       " '406,864.0',\n",
       " '427,713.5',\n",
       " '512,977.5',\n",
       " '583,484.5',\n",
       " 'Head Office and Inter',\n",
       " '-',\n",
       " 'Bank Adjustment',\n",
       " '169,715.1',\n",
       " '262,859.0',\n",
       " '134,407.5',\n",
       " '149,948.3',\n",
       " '145,795.8',\n",
       " '127,658.8',\n",
       " '373,123.0',\n",
       " 'Contingent Liabilities as per contra',\n",
       " '4,193,278.7',\n",
       " '4,196,427.7',\n",
       " '4,446,871.7',\n",
       " '4,151,895.4',\n",
       " '5,092,265.8',\n",
       " '5,470,701.3',\n",
       " '8,415,608.8',\n",
       " 'Other Liabilities',\n",
       " '3,115,490.3',\n",
       " '3,435,634.1',\n",
       " '3,508,024.7',\n",
       " '4,269,817.7',\n",
       " '3,743,437.9',\n",
       " '5,590,176.9',\n",
       " '2,964,905.7',\n",
       " 'Total Liabilities / Assets',\n",
       " '19,134,658.2',\n",
       " '20,313,628.4',\n",
       " '21,760,896.7',\n",
       " '22,622,007.3',\n",
       " '24,618,567.7',\n",
       " '27,553,359.8',\n",
       " '28,814,960.0',\n",
       " 'Assets',\n",
       " 'Cash',\n",
       " '937,644.7',\n",
       " '813,373.2',\n",
       " '821,920.2',\n",
       " '1,113,358.3',\n",
       " '1,215,145.2',\n",
       " '1,258,728.2',\n",
       " '1,424,819.5',\n",
       " '(a)',\n",
       " 'Notes, Coins and Silver',\n",
       " '187,997.8',\n",
       " '190,966.5',\n",
       " '256,738.8',\n",
       " '212,555.5',\n",
       " '294,332.1',\n",
       " '238,297.8',\n",
       " '291,135.3',\n",
       " '(b) ',\n",
       " 'Balances with State Bank of Pakistan',\n",
       " '405,453.1',\n",
       " '415,475.4',\n",
       " '380,156.7',\n",
       " '636,117.9',\n",
       " '650,567.5',\n",
       " '718,680.5',\n",
       " '787,974.3',\n",
       " '(c)  ',\n",
       " 'Balances with Other Scheduled Banks',\n",
       " '344,193.8',\n",
       " '206,931.3',\n",
       " '185,024.7',\n",
       " '264,685.0',\n",
       " '270,245.6',\n",
       " '301,749.8',\n",
       " '345,709.9',\n",
       " 'Balances held Abroad',\n",
       " '186,453.2',\n",
       " '226,193.8',\n",
       " '188,926.2',\n",
       " '175,738.3',\n",
       " '217,541.2',\n",
       " '178,730.1',\n",
       " '207,590.3',\n",
       " 'Bills Purchased and Discounted',\n",
       " '201,422.5',\n",
       " '171,840.1',\n",
       " '190,090.3',\n",
       " '176,612.8',\n",
       " '208,966.9',\n",
       " '225,650.5',\n",
       " '241,353.6',\n",
       " 'Advances to',\n",
       " '4,643,595.7',\n",
       " '4,922,944.9',\n",
       " '5,198,093.1',\n",
       " '5,649,917.1',\n",
       " '6,047,133.8',\n",
       " '6,451,545.7',\n",
       " '7,201,209.9',\n",
       " '(a)',\n",
       " 'Scheduled Banks',\n",
       " '139,739.8',\n",
       " '178,894.1',\n",
       " '119,901.1',\n",
       " '246,686.9',\n",
       " '81,194.8',\n",
       " '145,084.1',\n",
       " '78,394.3',\n",
       " '(b)',\n",
       " 'Others',\n",
       " '4,503,855.8',\n",
       " '4,744,050.8',\n",
       " '5,078,192.0',\n",
       " '5,403,230.2',\n",
       " '5,965,939.0',\n",
       " '6,306,461.6',\n",
       " '7,122,815.6',\n",
       " 'Investment in Securities and Shares',\n",
       " '6,011,774.8',\n",
       " '6,752,158.1',\n",
       " '7,610,278.2',\n",
       " '7,268,792.7',\n",
       " '8,227,773.0',\n",
       " '8,605,039.7',\n",
       " '8,320,899.2',\n",
       " '(a)',\n",
       " 'Federal Government Securities',\n",
       " '3,017,006.1',\n",
       " '3,377,903.4',\n",
       " '3,975,046.5',\n",
       " '3,144,843.2',\n",
       " '3,374,796.2',\n",
       " '2,965,941.9',\n",
       " '2,454,521.7',\n",
       " '(b)',\n",
       " 'Treasury Bills',\n",
       " '2,164,377.3',\n",
       " '2,537,577.9',\n",
       " '2,666,090.3',\n",
       " '3,145,702.9',\n",
       " '3,783,600.4',\n",
       " '4,588,491.8',\n",
       " '4,773,462.6',\n",
       " '(c)',\n",
       " 'Provincial Governments Securities',\n",
       " '-',\n",
       " '-',\n",
       " '-',\n",
       " '-',\n",
       " '-',\n",
       " '-',\n",
       " '(d)',\n",
       " 'Foreign Securities',\n",
       " '104,955.0',\n",
       " '99,727.8',\n",
       " '185,504.3',\n",
       " '121,077.1',\n",
       " '236,707.6',\n",
       " '257,402.4',\n",
       " '161,122.5',\n",
       " '(e)',\n",
       " 'Others',\n",
       " '725,436.4',\n",
       " '736,949.0',\n",
       " '783,637.1',\n",
       " '857,169.5',\n",
       " '832,668.8',\n",
       " '793,203.5',\n",
       " '931,792.4',\n",
       " 'Bank Premises',\n",
       " '238,727.9',\n",
       " '244,496.3',\n",
       " '268,335.0',\n",
       " '256,711.9',\n",
       " '295,253.6',\n",
       " '329,884.8',\n",
       " '312,625.6',\n",
       " 'Head Office and Inter',\n",
       " '-',\n",
       " 'Bank Adjustment',\n",
       " '615,872.8',\n",
       " '933,679.9',\n",
       " '791,734.1',\n",
       " '1,340,189.5',\n",
       " '999,505.6',\n",
       " '378,230.7',\n",
       " '100,683.4',\n",
       " 'Contingent Assets as per contra',\n",
       " '4,193,278.7',\n",
       " '4,196,427.7',\n",
       " '4,446,871.7',\n",
       " '4,151,895.4',\n",
       " '5,092,265.8',\n",
       " '5,470,701.3',\n",
       " '8,415,608.8',\n",
       " 'Other Assets',\n",
       " '2,105,887.8',\n",
       " '2,052,514.4',\n",
       " '2,244,647.9',\n",
       " '2,488,791.4',\n",
       " '2,314,982.6',\n",
       " '4,654,848.8',\n",
       " '2,590,169.7',\n",
       " 'Source: Statistics & Data Warehouse Department, SBP']"
      ]
     },
     "execution_count": 13,
     "metadata": {},
     "output_type": "execute_result"
    }
   ],
   "source": [
    "content_trans"
   ]
  },
  {
   "cell_type": "code",
   "execution_count": 14,
   "id": "e98ca92b",
   "metadata": {},
   "outputs": [
    {
     "data": {
      "text/plain": [
       "['Time ',\n",
       " 'Deposits',\n",
       " '4,095,938.6',\n",
       " '4,471,553.0',\n",
       " '4,735,749.1',\n",
       " '4,922,988.5',\n",
       " '5,116,374.3',\n",
       " '4,794,920.0',\n",
       " '4,732,409.4',\n",
       " '(a)',\n",
       " 'Scheduled Banks',\n",
       " '15,308.1',\n",
       " '25,153.3',\n",
       " '13,620.1',\n",
       " '16,316.8',\n",
       " '11,969.3',\n",
       " '55,704.4',\n",
       " '15,807.8',\n",
       " '(b)',\n",
       " 'Others',\n",
       " '4,080,630.5',\n",
       " '4,446,399.7',\n",
       " '4,722,129.0',\n",
       " '4,906,671.7',\n",
       " '5,104,405.0',\n",
       " '4,739,215.6',\n",
       " '4,716,601.7',\n",
       " 'Borrowings from',\n",
       " '1,270,882.4',\n",
       " '1,671,566.8',\n",
       " '2,205,538.8',\n",
       " '1,813,770.6',\n",
       " '2,598,567.8',\n",
       " '2,948,938.7',\n",
       " '2,967,655.0',\n",
       " '(a)',\n",
       " '.  State Bank of Pakistan',\n",
       " '917,993.5',\n",
       " '1,412,514.5',\n",
       " '1,787,927.8',\n",
       " '1,196,829.5',\n",
       " '1,852,645.3',\n",
       " '2,095,843.3',\n",
       " '2,025,865.8',\n",
       " '(b)',\n",
       " 'Banks Abroad',\n",
       " '107,372.1',\n",
       " '129,203.3',\n",
       " '172,580.1',\n",
       " '210,077.1',\n",
       " '318,209.0',\n",
       " '340,117.8',\n",
       " '358,304.7',\n",
       " '(c)',\n",
       " 'Other Scheduled Banks',\n",
       " '245,516.8',\n",
       " '129,849.0',\n",
       " '245,030.9',\n",
       " '406,864.0',\n",
       " '427,713.5',\n",
       " '512,977.5',\n",
       " '583,484.5',\n",
       " 'Head Office and Inter',\n",
       " '-',\n",
       " 'Bank Adjustment',\n",
       " '169,715.1',\n",
       " '262,859.0',\n",
       " '134,407.5',\n",
       " '149,948.3',\n",
       " '145,795.8',\n",
       " '127,658.8',\n",
       " '373,123.0',\n",
       " 'Contingent Liabilities as per contra',\n",
       " '4,193,278.7',\n",
       " '4,196,427.7',\n",
       " '4,446,871.7',\n",
       " '4,151,895.4',\n",
       " '5,092,265.8',\n",
       " '5,470,701.3',\n",
       " '8,415,608.8',\n",
       " 'Other Liabilities',\n",
       " '3,115,490.3',\n",
       " '3,435,634.1',\n",
       " '3,508,024.7',\n",
       " '4,269,817.7',\n",
       " '3,743,437.9',\n",
       " '5,590,176.9',\n",
       " '2,964,905.7',\n",
       " 'Total Liabilities / Assets',\n",
       " '19,134,658.2',\n",
       " '20,313,628.4',\n",
       " '21,760,896.7',\n",
       " '22,622,007.3',\n",
       " '24,618,567.7',\n",
       " '27,553,359.8',\n",
       " '28,814,960.0',\n",
       " 'Assets',\n",
       " 'Cash',\n",
       " '937,644.7',\n",
       " '813,373.2',\n",
       " '821,920.2',\n",
       " '1,113,358.3',\n",
       " '1,215,145.2',\n",
       " '1,258,728.2',\n",
       " '1,424,819.5',\n",
       " '(a)',\n",
       " 'Notes, Coins and Silver',\n",
       " '187,997.8',\n",
       " '190,966.5',\n",
       " '256,738.8',\n",
       " '212,555.5',\n",
       " '294,332.1',\n",
       " '238,297.8',\n",
       " '291,135.3',\n",
       " '(b) ',\n",
       " 'Balances with State Bank of Pakistan',\n",
       " '405,453.1',\n",
       " '415,475.4',\n",
       " '380,156.7',\n",
       " '636,117.9',\n",
       " '650,567.5',\n",
       " '718,680.5',\n",
       " '787,974.3',\n",
       " '(c)  ',\n",
       " 'Balances with Other Scheduled Banks',\n",
       " '344,193.8',\n",
       " '206,931.3',\n",
       " '185,024.7',\n",
       " '264,685.0',\n",
       " '270,245.6',\n",
       " '301,749.8',\n",
       " '345,709.9',\n",
       " 'Balances held Abroad',\n",
       " '186,453.2',\n",
       " '226,193.8',\n",
       " '188,926.2',\n",
       " '175,738.3',\n",
       " '217,541.2',\n",
       " '178,730.1',\n",
       " '207,590.3',\n",
       " 'Bills Purchased and Discounted',\n",
       " '201,422.5',\n",
       " '171,840.1',\n",
       " '190,090.3',\n",
       " '176,612.8',\n",
       " '208,966.9',\n",
       " '225,650.5',\n",
       " '241,353.6',\n",
       " 'Advances to',\n",
       " '4,643,595.7',\n",
       " '4,922,944.9',\n",
       " '5,198,093.1',\n",
       " '5,649,917.1',\n",
       " '6,047,133.8',\n",
       " '6,451,545.7',\n",
       " '7,201,209.9',\n",
       " '(a)',\n",
       " 'Scheduled Banks',\n",
       " '139,739.8',\n",
       " '178,894.1',\n",
       " '119,901.1',\n",
       " '246,686.9',\n",
       " '81,194.8',\n",
       " '145,084.1',\n",
       " '78,394.3',\n",
       " '(b)',\n",
       " 'Others',\n",
       " '4,503,855.8',\n",
       " '4,744,050.8',\n",
       " '5,078,192.0',\n",
       " '5,403,230.2',\n",
       " '5,965,939.0',\n",
       " '6,306,461.6',\n",
       " '7,122,815.6',\n",
       " 'Investment in Securities and Shares',\n",
       " '6,011,774.8',\n",
       " '6,752,158.1',\n",
       " '7,610,278.2',\n",
       " '7,268,792.7',\n",
       " '8,227,773.0',\n",
       " '8,605,039.7',\n",
       " '8,320,899.2',\n",
       " '(a)',\n",
       " 'Federal Government Securities',\n",
       " '3,017,006.1',\n",
       " '3,377,903.4',\n",
       " '3,975,046.5',\n",
       " '3,144,843.2',\n",
       " '3,374,796.2',\n",
       " '2,965,941.9',\n",
       " '2,454,521.7',\n",
       " '(b)',\n",
       " 'Treasury Bills',\n",
       " '2,164,377.3',\n",
       " '2,537,577.9',\n",
       " '2,666,090.3',\n",
       " '3,145,702.9',\n",
       " '3,783,600.4',\n",
       " '4,588,491.8',\n",
       " '4,773,462.6',\n",
       " '(c)',\n",
       " 'Provincial Governments Securities',\n",
       " '-',\n",
       " '-',\n",
       " '-',\n",
       " '-',\n",
       " '-',\n",
       " '-',\n",
       " '(d)',\n",
       " 'Foreign Securities',\n",
       " '104,955.0',\n",
       " '99,727.8',\n",
       " '185,504.3',\n",
       " '121,077.1',\n",
       " '236,707.6',\n",
       " '257,402.4',\n",
       " '161,122.5',\n",
       " '(e)',\n",
       " 'Others',\n",
       " '725,436.4',\n",
       " '736,949.0',\n",
       " '783,637.1',\n",
       " '857,169.5',\n",
       " '832,668.8',\n",
       " '793,203.5',\n",
       " '931,792.4',\n",
       " 'Bank Premises',\n",
       " '238,727.9',\n",
       " '244,496.3',\n",
       " '268,335.0',\n",
       " '256,711.9',\n",
       " '295,253.6',\n",
       " '329,884.8',\n",
       " '312,625.6',\n",
       " 'Head Office and Inter',\n",
       " '-',\n",
       " 'Bank Adjustment',\n",
       " '615,872.8',\n",
       " '933,679.9',\n",
       " '791,734.1',\n",
       " '1,340,189.5',\n",
       " '999,505.6',\n",
       " '378,230.7',\n",
       " '100,683.4',\n",
       " 'Contingent Assets as per contra',\n",
       " '4,193,278.7',\n",
       " '4,196,427.7',\n",
       " '4,446,871.7',\n",
       " '4,151,895.4',\n",
       " '5,092,265.8',\n",
       " '5,470,701.3',\n",
       " '8,415,608.8',\n",
       " 'Other Assets',\n",
       " '2,105,887.8',\n",
       " '2,052,514.4',\n",
       " '2,244,647.9',\n",
       " '2,488,791.4',\n",
       " '2,314,982.6',\n",
       " '4,654,848.8',\n",
       " '2,590,169.7',\n",
       " 'Source: Statistics & Data Warehouse Department, SBP']"
      ]
     },
     "execution_count": 14,
     "metadata": {},
     "output_type": "execute_result"
    }
   ],
   "source": [
    "content_trans[content_trans.index(\"Borrowings from\")-27:]"
   ]
  },
  {
   "cell_type": "code",
   "execution_count": 15,
   "id": "961c5fc3",
   "metadata": {},
   "outputs": [],
   "source": [
    "demnand_deposit = content_trans[content_trans.index(\"Demand Deposits\"):content_trans.index(\"Borrowings from\")-27:]"
   ]
  },
  {
   "cell_type": "code",
   "execution_count": 16,
   "id": "801e1161",
   "metadata": {},
   "outputs": [
    {
     "data": {
      "text/plain": [
       "['Demand Deposits',\n",
       " '5,172,476.2',\n",
       " '5,093,745.0',\n",
       " '5,561,224.4',\n",
       " '6,091,277.9',\n",
       " '6,625,035.0',\n",
       " '7,346,818.9',\n",
       " '8,067,967.7',\n",
       " '(a)',\n",
       " 'Scheduled Banks',\n",
       " '100,097.7',\n",
       " '130,265.0',\n",
       " '125,696.4',\n",
       " '156,691.2',\n",
       " '137,339.5',\n",
       " '139,141.6',\n",
       " '135,519.5',\n",
       " '(b)',\n",
       " 'Others',\n",
       " '5,072,378.6',\n",
       " '4,963,480.0',\n",
       " '5,435,528.0',\n",
       " '5,934,586.7',\n",
       " '6,487,695.6',\n",
       " '7,207,677.3',\n",
       " '7,932,448.2']"
      ]
     },
     "execution_count": 16,
     "metadata": {},
     "output_type": "execute_result"
    }
   ],
   "source": [
    "demnand_deposit"
   ]
  },
  {
   "cell_type": "code",
   "execution_count": 17,
   "id": "e2e2023e",
   "metadata": {},
   "outputs": [
    {
     "data": {
      "text/plain": [
       "7"
      ]
     },
     "execution_count": 17,
     "metadata": {},
     "output_type": "execute_result"
    }
   ],
   "source": [
    "demnand_deposit_total = demnand_deposit[demnand_deposit.index(\"Demand Deposits\")+1:demnand_deposit.index(\"Scheduled Banks\")-1]\n",
    "len(demnand_deposit_total)"
   ]
  },
  {
   "cell_type": "code",
   "execution_count": 18,
   "id": "b60fc509",
   "metadata": {},
   "outputs": [
    {
     "data": {
      "text/plain": [
       "7"
      ]
     },
     "execution_count": 18,
     "metadata": {},
     "output_type": "execute_result"
    }
   ],
   "source": [
    "demnand_deposit_scheduele_banks =  demnand_deposit[demnand_deposit.index(\"Scheduled Banks\")+1:demnand_deposit.index(\"Others\")-1]\n",
    "len(demnand_deposit_scheduele_banks)"
   ]
  },
  {
   "cell_type": "code",
   "execution_count": 19,
   "id": "a6613e3e",
   "metadata": {},
   "outputs": [
    {
     "data": {
      "text/plain": [
       "7"
      ]
     },
     "execution_count": 19,
     "metadata": {},
     "output_type": "execute_result"
    }
   ],
   "source": [
    "demnand_deposit_others =  demnand_deposit[demnand_deposit.index(\"Others\")+1:]\n",
    "len(demnand_deposit_others)"
   ]
  },
  {
   "cell_type": "code",
   "execution_count": 20,
   "id": "f1ea805b",
   "metadata": {},
   "outputs": [
    {
     "data": {
      "text/plain": [
       "['3    Content : 26',\n",
       " \"3.1   Scheduled Banks' Liabilities and Assets\",\n",
       " '(Million Rupees)',\n",
       " 'Liabilities/Assets',\n",
       " '2015',\n",
       " '2016',\n",
       " '2017',\n",
       " '2018',\n",
       " 'Jun',\n",
       " 'Dec',\n",
       " 'Jun',\n",
       " 'Dec',\n",
       " 'Jun',\n",
       " 'Dec',\n",
       " 'Jun',\n",
       " 'Liabilities',\n",
       " 'Capital',\n",
       " '501,119.9',\n",
       " '540,096.2',\n",
       " '548,631.7',\n",
       " '552,067.2',\n",
       " '657,627.1',\n",
       " '517,287.1',\n",
       " '519,408.6',\n",
       " 'Reserves',\n",
       " '615,757.0',\n",
       " '641,746.7',\n",
       " '620,448.7',\n",
       " '670,241.5',\n",
       " '639,464.0',\n",
       " '756,858.3',\n",
       " '773,881.7',\n",
       " 'Demand Deposits',\n",
       " '5,172,476.2',\n",
       " '5,093,745.0',\n",
       " '5,561,224.4',\n",
       " '6,091,277.9',\n",
       " '6,625,035.0',\n",
       " '7,346,818.9',\n",
       " '8,067,967.7',\n",
       " '(a)',\n",
       " 'Scheduled Banks',\n",
       " '100,097.7',\n",
       " '130,265.0',\n",
       " '125,696.4',\n",
       " '156,691.2',\n",
       " '137,339.5',\n",
       " '139,141.6',\n",
       " '135,519.5',\n",
       " '(b)',\n",
       " 'Others',\n",
       " '5,072,378.6',\n",
       " '4,963,480.0',\n",
       " '5,435,528.0',\n",
       " '5,934,586.7',\n",
       " '6,487,695.6',\n",
       " '7,207,677.3',\n",
       " '7,932,448.2',\n",
       " 'Time ',\n",
       " 'Deposits',\n",
       " '4,095,938.6',\n",
       " '4,471,553.0',\n",
       " '4,735,749.1',\n",
       " '4,922,988.5',\n",
       " '5,116,374.3',\n",
       " '4,794,920.0',\n",
       " '4,732,409.4',\n",
       " '(a)',\n",
       " 'Scheduled Banks',\n",
       " '15,308.1',\n",
       " '25,153.3',\n",
       " '13,620.1',\n",
       " '16,316.8',\n",
       " '11,969.3',\n",
       " '55,704.4',\n",
       " '15,807.8',\n",
       " '(b)',\n",
       " 'Others',\n",
       " '4,080,630.5',\n",
       " '4,446,399.7',\n",
       " '4,722,129.0',\n",
       " '4,906,671.7',\n",
       " '5,104,405.0',\n",
       " '4,739,215.6',\n",
       " '4,716,601.7',\n",
       " 'Borrowings from',\n",
       " '1,270,882.4',\n",
       " '1,671,566.8',\n",
       " '2,205,538.8',\n",
       " '1,813,770.6',\n",
       " '2,598,567.8',\n",
       " '2,948,938.7',\n",
       " '2,967,655.0',\n",
       " '(a)',\n",
       " '.  State Bank of Pakistan',\n",
       " '917,993.5',\n",
       " '1,412,514.5',\n",
       " '1,787,927.8',\n",
       " '1,196,829.5',\n",
       " '1,852,645.3',\n",
       " '2,095,843.3',\n",
       " '2,025,865.8',\n",
       " '(b)',\n",
       " 'Banks Abroad',\n",
       " '107,372.1',\n",
       " '129,203.3',\n",
       " '172,580.1',\n",
       " '210,077.1',\n",
       " '318,209.0',\n",
       " '340,117.8',\n",
       " '358,304.7',\n",
       " '(c)',\n",
       " 'Other Scheduled Banks',\n",
       " '245,516.8',\n",
       " '129,849.0',\n",
       " '245,030.9',\n",
       " '406,864.0',\n",
       " '427,713.5',\n",
       " '512,977.5',\n",
       " '583,484.5',\n",
       " 'Head Office and Inter',\n",
       " '-',\n",
       " 'Bank Adjustment',\n",
       " '169,715.1',\n",
       " '262,859.0',\n",
       " '134,407.5',\n",
       " '149,948.3',\n",
       " '145,795.8',\n",
       " '127,658.8',\n",
       " '373,123.0',\n",
       " 'Contingent Liabilities as per contra',\n",
       " '4,193,278.7',\n",
       " '4,196,427.7',\n",
       " '4,446,871.7',\n",
       " '4,151,895.4',\n",
       " '5,092,265.8',\n",
       " '5,470,701.3',\n",
       " '8,415,608.8',\n",
       " 'Other Liabilities',\n",
       " '3,115,490.3',\n",
       " '3,435,634.1',\n",
       " '3,508,024.7',\n",
       " '4,269,817.7',\n",
       " '3,743,437.9',\n",
       " '5,590,176.9',\n",
       " '2,964,905.7',\n",
       " 'Total Liabilities / Assets',\n",
       " '19,134,658.2',\n",
       " '20,313,628.4',\n",
       " '21,760,896.7',\n",
       " '22,622,007.3',\n",
       " '24,618,567.7',\n",
       " '27,553,359.8',\n",
       " '28,814,960.0',\n",
       " 'Assets',\n",
       " 'Cash',\n",
       " '937,644.7',\n",
       " '813,373.2',\n",
       " '821,920.2',\n",
       " '1,113,358.3',\n",
       " '1,215,145.2',\n",
       " '1,258,728.2',\n",
       " '1,424,819.5',\n",
       " '(a)',\n",
       " 'Notes, Coins and Silver',\n",
       " '187,997.8',\n",
       " '190,966.5',\n",
       " '256,738.8',\n",
       " '212,555.5',\n",
       " '294,332.1',\n",
       " '238,297.8',\n",
       " '291,135.3',\n",
       " '(b) ',\n",
       " 'Balances with State Bank of Pakistan',\n",
       " '405,453.1',\n",
       " '415,475.4',\n",
       " '380,156.7',\n",
       " '636,117.9',\n",
       " '650,567.5',\n",
       " '718,680.5',\n",
       " '787,974.3',\n",
       " '(c)  ',\n",
       " 'Balances with Other Scheduled Banks',\n",
       " '344,193.8',\n",
       " '206,931.3',\n",
       " '185,024.7',\n",
       " '264,685.0',\n",
       " '270,245.6',\n",
       " '301,749.8',\n",
       " '345,709.9',\n",
       " 'Balances held Abroad',\n",
       " '186,453.2',\n",
       " '226,193.8',\n",
       " '188,926.2',\n",
       " '175,738.3',\n",
       " '217,541.2',\n",
       " '178,730.1',\n",
       " '207,590.3',\n",
       " 'Bills Purchased and Discounted',\n",
       " '201,422.5',\n",
       " '171,840.1',\n",
       " '190,090.3',\n",
       " '176,612.8',\n",
       " '208,966.9',\n",
       " '225,650.5',\n",
       " '241,353.6',\n",
       " 'Advances to',\n",
       " '4,643,595.7',\n",
       " '4,922,944.9',\n",
       " '5,198,093.1',\n",
       " '5,649,917.1',\n",
       " '6,047,133.8',\n",
       " '6,451,545.7',\n",
       " '7,201,209.9',\n",
       " '(a)',\n",
       " 'Scheduled Banks',\n",
       " '139,739.8',\n",
       " '178,894.1',\n",
       " '119,901.1',\n",
       " '246,686.9',\n",
       " '81,194.8',\n",
       " '145,084.1',\n",
       " '78,394.3',\n",
       " '(b)',\n",
       " 'Others',\n",
       " '4,503,855.8',\n",
       " '4,744,050.8',\n",
       " '5,078,192.0',\n",
       " '5,403,230.2',\n",
       " '5,965,939.0',\n",
       " '6,306,461.6',\n",
       " '7,122,815.6',\n",
       " 'Investment in Securities and Shares',\n",
       " '6,011,774.8',\n",
       " '6,752,158.1',\n",
       " '7,610,278.2',\n",
       " '7,268,792.7',\n",
       " '8,227,773.0',\n",
       " '8,605,039.7',\n",
       " '8,320,899.2',\n",
       " '(a)',\n",
       " 'Federal Government Securities',\n",
       " '3,017,006.1',\n",
       " '3,377,903.4',\n",
       " '3,975,046.5',\n",
       " '3,144,843.2',\n",
       " '3,374,796.2',\n",
       " '2,965,941.9',\n",
       " '2,454,521.7',\n",
       " '(b)',\n",
       " 'Treasury Bills',\n",
       " '2,164,377.3',\n",
       " '2,537,577.9',\n",
       " '2,666,090.3',\n",
       " '3,145,702.9',\n",
       " '3,783,600.4',\n",
       " '4,588,491.8',\n",
       " '4,773,462.6',\n",
       " '(c)',\n",
       " 'Provincial Governments Securities',\n",
       " '-',\n",
       " '-',\n",
       " '-',\n",
       " '-',\n",
       " '-',\n",
       " '-',\n",
       " '(d)',\n",
       " 'Foreign Securities',\n",
       " '104,955.0',\n",
       " '99,727.8',\n",
       " '185,504.3',\n",
       " '121,077.1',\n",
       " '236,707.6',\n",
       " '257,402.4',\n",
       " '161,122.5',\n",
       " '(e)',\n",
       " 'Others',\n",
       " '725,436.4',\n",
       " '736,949.0',\n",
       " '783,637.1',\n",
       " '857,169.5',\n",
       " '832,668.8',\n",
       " '793,203.5',\n",
       " '931,792.4',\n",
       " 'Bank Premises',\n",
       " '238,727.9',\n",
       " '244,496.3',\n",
       " '268,335.0',\n",
       " '256,711.9',\n",
       " '295,253.6',\n",
       " '329,884.8',\n",
       " '312,625.6',\n",
       " 'Head Office and Inter',\n",
       " '-',\n",
       " 'Bank Adjustment',\n",
       " '615,872.8',\n",
       " '933,679.9',\n",
       " '791,734.1',\n",
       " '1,340,189.5',\n",
       " '999,505.6',\n",
       " '378,230.7',\n",
       " '100,683.4',\n",
       " 'Contingent Assets as per contra',\n",
       " '4,193,278.7',\n",
       " '4,196,427.7',\n",
       " '4,446,871.7',\n",
       " '4,151,895.4',\n",
       " '5,092,265.8',\n",
       " '5,470,701.3',\n",
       " '8,415,608.8',\n",
       " 'Other Assets',\n",
       " '2,105,887.8',\n",
       " '2,052,514.4',\n",
       " '2,244,647.9',\n",
       " '2,488,791.4',\n",
       " '2,314,982.6',\n",
       " '4,654,848.8',\n",
       " '2,590,169.7',\n",
       " 'Source: Statistics & Data Warehouse Department, SBP']"
      ]
     },
     "execution_count": 20,
     "metadata": {},
     "output_type": "execute_result"
    }
   ],
   "source": [
    "content_trans"
   ]
  },
  {
   "cell_type": "code",
   "execution_count": 23,
   "id": "639b62f5",
   "metadata": {},
   "outputs": [],
   "source": [
    "time_deposits = content_trans[content_trans.index(\"Borrowings from\")-27:content_trans.index(\"Borrowings from\")]"
   ]
  },
  {
   "cell_type": "code",
   "execution_count": 24,
   "id": "a7b5618e",
   "metadata": {},
   "outputs": [
    {
     "data": {
      "text/plain": [
       "7"
      ]
     },
     "execution_count": 24,
     "metadata": {},
     "output_type": "execute_result"
    }
   ],
   "source": [
    "time_deposits_total =  time_deposits[time_deposits.index(\"Scheduled Banks\")-8:time_deposits.index(\"Scheduled Banks\")-1]\n",
    "len(time_deposits_total)"
   ]
  },
  {
   "cell_type": "code",
   "execution_count": 25,
   "id": "605f44ff",
   "metadata": {},
   "outputs": [
    {
     "data": {
      "text/plain": [
       "7"
      ]
     },
     "execution_count": 25,
     "metadata": {},
     "output_type": "execute_result"
    }
   ],
   "source": [
    "time_deposits_scheduele_banks =  time_deposits[time_deposits.index(\"Scheduled Banks\")+1:time_deposits.index(\"Others\")-1]\n",
    "len(time_deposits_scheduele_banks)"
   ]
  },
  {
   "cell_type": "code",
   "execution_count": 26,
   "id": "87ed2e0a",
   "metadata": {},
   "outputs": [
    {
     "data": {
      "text/plain": [
       "7"
      ]
     },
     "execution_count": 26,
     "metadata": {},
     "output_type": "execute_result"
    }
   ],
   "source": [
    "time_deposits_others =  time_deposits[time_deposits.index(\"Others\")+1:]\n",
    "len(time_deposits_others)"
   ]
  },
  {
   "cell_type": "code",
   "execution_count": null,
   "id": "aa484920",
   "metadata": {},
   "outputs": [],
   "source": []
  },
  {
   "cell_type": "code",
   "execution_count": 27,
   "id": "942cfcf5",
   "metadata": {},
   "outputs": [],
   "source": [
    "borrowing_from =  content_trans[content_trans.index(\"Borrowings from\"):content_trans.index(\"Assets\")]"
   ]
  },
  {
   "cell_type": "code",
   "execution_count": 28,
   "id": "7b9372ab",
   "metadata": {},
   "outputs": [
    {
     "data": {
      "text/plain": [
       "7"
      ]
     },
     "execution_count": 28,
     "metadata": {},
     "output_type": "execute_result"
    }
   ],
   "source": [
    "borrowing_from_total= borrowing_from[borrowing_from.index(\"Borrowings from\")+1:borrowing_from.index(\".  State Bank of Pakistan\")-1]\n",
    "len(borrowing_from_total)"
   ]
  },
  {
   "cell_type": "code",
   "execution_count": 29,
   "id": "2bd4d17a",
   "metadata": {},
   "outputs": [
    {
     "data": {
      "text/plain": [
       "7"
      ]
     },
     "execution_count": 29,
     "metadata": {},
     "output_type": "execute_result"
    }
   ],
   "source": [
    "borrowing_from_sbp = borrowing_from[borrowing_from.index(\".  State Bank of Pakistan\")+1:borrowing_from.index(\"Banks Abroad\")-1]\n",
    "len(borrowing_from_sbp)"
   ]
  },
  {
   "cell_type": "code",
   "execution_count": 30,
   "id": "02ad0164",
   "metadata": {},
   "outputs": [
    {
     "data": {
      "text/plain": [
       "7"
      ]
     },
     "execution_count": 30,
     "metadata": {},
     "output_type": "execute_result"
    }
   ],
   "source": [
    "borrowing_from_banks_abroad = borrowing_from[borrowing_from.index(\"Banks Abroad\")+1:borrowing_from.index(\"Other Scheduled Banks\")-1]\n",
    "len(borrowing_from_banks_abroad)"
   ]
  },
  {
   "cell_type": "code",
   "execution_count": 31,
   "id": "6f1284a5",
   "metadata": {},
   "outputs": [
    {
     "data": {
      "text/plain": [
       "7"
      ]
     },
     "execution_count": 31,
     "metadata": {},
     "output_type": "execute_result"
    }
   ],
   "source": [
    "borrowing_from_other_schedueled_banks = borrowing_from[borrowing_from.index(\"Other Scheduled Banks\")+1:borrowing_from.index(\"Other Scheduled Banks\")+8]\n",
    "len(borrowing_from_other_schedueled_banks)"
   ]
  },
  {
   "cell_type": "code",
   "execution_count": null,
   "id": "4b780851",
   "metadata": {},
   "outputs": [],
   "source": []
  },
  {
   "cell_type": "code",
   "execution_count": 32,
   "id": "8d1dcbeb",
   "metadata": {},
   "outputs": [
    {
     "data": {
      "text/plain": [
       "7"
      ]
     },
     "execution_count": 32,
     "metadata": {},
     "output_type": "execute_result"
    }
   ],
   "source": [
    "HeadOffice_InterBank_Adjustment = borrowing_from[borrowing_from.index(\"Bank Adjustment\")+1:borrowing_from.index(\"Contingent Liabilities as per contra\")]\n",
    "len(HeadOffice_InterBank_Adjustment)"
   ]
  },
  {
   "cell_type": "code",
   "execution_count": 33,
   "id": "e20a3227",
   "metadata": {},
   "outputs": [
    {
     "data": {
      "text/plain": [
       "7"
      ]
     },
     "execution_count": 33,
     "metadata": {},
     "output_type": "execute_result"
    }
   ],
   "source": [
    "cotigent_liablities_AsPerContra = borrowing_from[borrowing_from.index(\"Contingent Liabilities as per contra\")+1:borrowing_from.index(\"Other Liabilities\")]\n",
    "len(cotigent_liablities_AsPerContra)"
   ]
  },
  {
   "cell_type": "code",
   "execution_count": 34,
   "id": "db175081",
   "metadata": {},
   "outputs": [
    {
     "data": {
      "text/plain": [
       "7"
      ]
     },
     "execution_count": 34,
     "metadata": {},
     "output_type": "execute_result"
    }
   ],
   "source": [
    "other_liablities =  borrowing_from[borrowing_from.index(\"Other Liabilities\")+1:borrowing_from.index(\"Total Liabilities / Assets\")]\n",
    "len(other_liablities)"
   ]
  },
  {
   "cell_type": "code",
   "execution_count": 35,
   "id": "6420e014",
   "metadata": {},
   "outputs": [
    {
     "data": {
      "text/plain": [
       "7"
      ]
     },
     "execution_count": 35,
     "metadata": {},
     "output_type": "execute_result"
    }
   ],
   "source": [
    "Total_Libilities_Assets = borrowing_from[borrowing_from.index(\"Total Liabilities / Assets\")+1:]\n",
    "len(Total_Libilities_Assets)"
   ]
  },
  {
   "cell_type": "code",
   "execution_count": null,
   "id": "aadbd66f",
   "metadata": {},
   "outputs": [],
   "source": []
  },
  {
   "cell_type": "code",
   "execution_count": null,
   "id": "70bb277a",
   "metadata": {},
   "outputs": [],
   "source": []
  },
  {
   "cell_type": "code",
   "execution_count": null,
   "id": "dea8fb3f",
   "metadata": {},
   "outputs": [],
   "source": []
  },
  {
   "cell_type": "code",
   "execution_count": null,
   "id": "4bfe0494",
   "metadata": {},
   "outputs": [],
   "source": []
  },
  {
   "cell_type": "code",
   "execution_count": 36,
   "id": "eaadeb0b",
   "metadata": {},
   "outputs": [],
   "source": [
    "assets =  content_trans[content_trans.index(\"Assets\")+1:]"
   ]
  },
  {
   "cell_type": "code",
   "execution_count": 37,
   "id": "c8c7bdb7",
   "metadata": {},
   "outputs": [
    {
     "data": {
      "text/plain": [
       "7"
      ]
     },
     "execution_count": 37,
     "metadata": {},
     "output_type": "execute_result"
    }
   ],
   "source": [
    "cash_total = assets[assets.index(\"Cash\")+1:assets.index(\"Notes, Coins and Silver\")-1]\n",
    "len(cash_total)"
   ]
  },
  {
   "cell_type": "code",
   "execution_count": 38,
   "id": "45e0fc6d",
   "metadata": {},
   "outputs": [
    {
     "data": {
      "text/plain": [
       "7"
      ]
     },
     "execution_count": 38,
     "metadata": {},
     "output_type": "execute_result"
    }
   ],
   "source": [
    "Notes_Coins_Silver = assets[assets.index(\"Notes, Coins and Silver\")+1:assets.index(\"Balances with State Bank of Pakistan\")-1]\n",
    "len(Notes_Coins_Silver)"
   ]
  },
  {
   "cell_type": "code",
   "execution_count": 39,
   "id": "4616cc87",
   "metadata": {},
   "outputs": [
    {
     "data": {
      "text/plain": [
       "7"
      ]
     },
     "execution_count": 39,
     "metadata": {},
     "output_type": "execute_result"
    }
   ],
   "source": [
    "balances_with_sbp = assets[assets.index(\"Balances with State Bank of Pakistan\")+1:assets.index(\"Balances with Other Scheduled Banks\")-1]\n",
    "len(balances_with_sbp)"
   ]
  },
  {
   "cell_type": "code",
   "execution_count": 40,
   "id": "4896d0db",
   "metadata": {},
   "outputs": [
    {
     "data": {
      "text/plain": [
       "7"
      ]
     },
     "execution_count": 40,
     "metadata": {},
     "output_type": "execute_result"
    }
   ],
   "source": [
    "balances_with_other_schedueled_bank = assets[assets.index(\"Balances with Other Scheduled Banks\")+1:assets.index(\"Balances held Abroad\")]\n",
    "len(balances_with_other_schedueled_bank)"
   ]
  },
  {
   "cell_type": "code",
   "execution_count": 41,
   "id": "36b49469",
   "metadata": {},
   "outputs": [
    {
     "data": {
      "text/plain": [
       "7"
      ]
     },
     "execution_count": 41,
     "metadata": {},
     "output_type": "execute_result"
    }
   ],
   "source": [
    "balances_held_abroad =  assets[assets.index(\"Balances held Abroad\")+1:assets.index(\"Balances held Abroad\")+8]\n",
    "len(balances_held_abroad)"
   ]
  },
  {
   "cell_type": "code",
   "execution_count": 42,
   "id": "a936f36b",
   "metadata": {},
   "outputs": [
    {
     "data": {
      "text/plain": [
       "7"
      ]
     },
     "execution_count": 42,
     "metadata": {},
     "output_type": "execute_result"
    }
   ],
   "source": [
    "bill_purchased_discounts = assets[assets.index(\"Advances to\")-7:assets.index(\"Advances to\")]\n",
    "len(bill_purchased_discounts)"
   ]
  },
  {
   "cell_type": "code",
   "execution_count": 43,
   "id": "037554ce",
   "metadata": {},
   "outputs": [
    {
     "data": {
      "text/plain": [
       "['201,422.5',\n",
       " '171,840.1',\n",
       " '190,090.3',\n",
       " '176,612.8',\n",
       " '208,966.9',\n",
       " '225,650.5',\n",
       " '241,353.6']"
      ]
     },
     "execution_count": 43,
     "metadata": {},
     "output_type": "execute_result"
    }
   ],
   "source": [
    "bill_purchased_discounts"
   ]
  },
  {
   "cell_type": "code",
   "execution_count": 44,
   "id": "87cb30b9",
   "metadata": {},
   "outputs": [
    {
     "data": {
      "text/plain": [
       "7"
      ]
     },
     "execution_count": 44,
     "metadata": {},
     "output_type": "execute_result"
    }
   ],
   "source": [
    "total_advance_to =  assets[assets.index(\"Advances to\")+1:assets.index(\"Scheduled Banks\")-1]\n",
    "len(total_advance_to)"
   ]
  },
  {
   "cell_type": "code",
   "execution_count": 45,
   "id": "7f33b75c",
   "metadata": {},
   "outputs": [
    {
     "data": {
      "text/plain": [
       "7"
      ]
     },
     "execution_count": 45,
     "metadata": {},
     "output_type": "execute_result"
    }
   ],
   "source": [
    "advance_to_scheduele_banks=  assets[assets.index(\"Scheduled Banks\")+1:assets.index(\"Others\")-1]\n",
    "len(advance_to_scheduele_banks)"
   ]
  },
  {
   "cell_type": "code",
   "execution_count": 46,
   "id": "744ccb76",
   "metadata": {},
   "outputs": [
    {
     "data": {
      "text/plain": [
       "7"
      ]
     },
     "execution_count": 46,
     "metadata": {},
     "output_type": "execute_result"
    }
   ],
   "source": [
    "advance_to_others =  assets[assets.index(\"Others\")+1:assets.index(\"Others\")+8]\n",
    "len(advance_to_others)"
   ]
  },
  {
   "cell_type": "code",
   "execution_count": 47,
   "id": "a115f075",
   "metadata": {},
   "outputs": [
    {
     "data": {
      "text/plain": [
       "['4,503,855.8',\n",
       " '4,744,050.8',\n",
       " '5,078,192.0',\n",
       " '5,403,230.2',\n",
       " '5,965,939.0',\n",
       " '6,306,461.6',\n",
       " '7,122,815.6']"
      ]
     },
     "execution_count": 47,
     "metadata": {},
     "output_type": "execute_result"
    }
   ],
   "source": [
    "advance_to_others"
   ]
  },
  {
   "cell_type": "code",
   "execution_count": 48,
   "id": "789d0098",
   "metadata": {},
   "outputs": [
    {
     "data": {
      "text/plain": [
       "7"
      ]
     },
     "execution_count": 48,
     "metadata": {},
     "output_type": "execute_result"
    }
   ],
   "source": [
    "Investment_securities_shares =   assets[assets.index(\"Federal Government Securities\")-8:assets.index(\"Federal Government Securities\")-1]\n",
    "len(Investment_securities_shares)"
   ]
  },
  {
   "cell_type": "code",
   "execution_count": 49,
   "id": "c7ded587",
   "metadata": {},
   "outputs": [
    {
     "data": {
      "text/plain": [
       "['6,011,774.8',\n",
       " '6,752,158.1',\n",
       " '7,610,278.2',\n",
       " '7,268,792.7',\n",
       " '8,227,773.0',\n",
       " '8,605,039.7',\n",
       " '8,320,899.2']"
      ]
     },
     "execution_count": 49,
     "metadata": {},
     "output_type": "execute_result"
    }
   ],
   "source": [
    "Investment_securities_shares"
   ]
  },
  {
   "cell_type": "code",
   "execution_count": 50,
   "id": "360b3bfb",
   "metadata": {},
   "outputs": [
    {
     "data": {
      "text/plain": [
       "['Cash',\n",
       " '937,644.7',\n",
       " '813,373.2',\n",
       " '821,920.2',\n",
       " '1,113,358.3',\n",
       " '1,215,145.2',\n",
       " '1,258,728.2',\n",
       " '1,424,819.5',\n",
       " '(a)',\n",
       " 'Notes, Coins and Silver',\n",
       " '187,997.8',\n",
       " '190,966.5',\n",
       " '256,738.8',\n",
       " '212,555.5',\n",
       " '294,332.1',\n",
       " '238,297.8',\n",
       " '291,135.3',\n",
       " '(b) ',\n",
       " 'Balances with State Bank of Pakistan',\n",
       " '405,453.1',\n",
       " '415,475.4',\n",
       " '380,156.7',\n",
       " '636,117.9',\n",
       " '650,567.5',\n",
       " '718,680.5',\n",
       " '787,974.3',\n",
       " '(c)  ',\n",
       " 'Balances with Other Scheduled Banks',\n",
       " '344,193.8',\n",
       " '206,931.3',\n",
       " '185,024.7',\n",
       " '264,685.0',\n",
       " '270,245.6',\n",
       " '301,749.8',\n",
       " '345,709.9',\n",
       " 'Balances held Abroad',\n",
       " '186,453.2',\n",
       " '226,193.8',\n",
       " '188,926.2',\n",
       " '175,738.3',\n",
       " '217,541.2',\n",
       " '178,730.1',\n",
       " '207,590.3',\n",
       " 'Bills Purchased and Discounted',\n",
       " '201,422.5',\n",
       " '171,840.1',\n",
       " '190,090.3',\n",
       " '176,612.8',\n",
       " '208,966.9',\n",
       " '225,650.5',\n",
       " '241,353.6',\n",
       " 'Advances to',\n",
       " '4,643,595.7',\n",
       " '4,922,944.9',\n",
       " '5,198,093.1',\n",
       " '5,649,917.1',\n",
       " '6,047,133.8',\n",
       " '6,451,545.7',\n",
       " '7,201,209.9',\n",
       " '(a)',\n",
       " 'Scheduled Banks',\n",
       " '139,739.8',\n",
       " '178,894.1',\n",
       " '119,901.1',\n",
       " '246,686.9',\n",
       " '81,194.8',\n",
       " '145,084.1',\n",
       " '78,394.3',\n",
       " '(b)',\n",
       " 'Others',\n",
       " '4,503,855.8',\n",
       " '4,744,050.8',\n",
       " '5,078,192.0',\n",
       " '5,403,230.2',\n",
       " '5,965,939.0',\n",
       " '6,306,461.6',\n",
       " '7,122,815.6',\n",
       " 'Investment in Securities and Shares',\n",
       " '6,011,774.8',\n",
       " '6,752,158.1',\n",
       " '7,610,278.2',\n",
       " '7,268,792.7',\n",
       " '8,227,773.0',\n",
       " '8,605,039.7',\n",
       " '8,320,899.2',\n",
       " '(a)',\n",
       " 'Federal Government Securities',\n",
       " '3,017,006.1',\n",
       " '3,377,903.4',\n",
       " '3,975,046.5',\n",
       " '3,144,843.2',\n",
       " '3,374,796.2',\n",
       " '2,965,941.9',\n",
       " '2,454,521.7',\n",
       " '(b)',\n",
       " 'Treasury Bills',\n",
       " '2,164,377.3',\n",
       " '2,537,577.9',\n",
       " '2,666,090.3',\n",
       " '3,145,702.9',\n",
       " '3,783,600.4',\n",
       " '4,588,491.8',\n",
       " '4,773,462.6',\n",
       " '(c)',\n",
       " 'Provincial Governments Securities',\n",
       " '-',\n",
       " '-',\n",
       " '-',\n",
       " '-',\n",
       " '-',\n",
       " '-',\n",
       " '(d)',\n",
       " 'Foreign Securities',\n",
       " '104,955.0',\n",
       " '99,727.8',\n",
       " '185,504.3',\n",
       " '121,077.1',\n",
       " '236,707.6',\n",
       " '257,402.4',\n",
       " '161,122.5',\n",
       " '(e)',\n",
       " 'Others',\n",
       " '725,436.4',\n",
       " '736,949.0',\n",
       " '783,637.1',\n",
       " '857,169.5',\n",
       " '832,668.8',\n",
       " '793,203.5',\n",
       " '931,792.4',\n",
       " 'Bank Premises',\n",
       " '238,727.9',\n",
       " '244,496.3',\n",
       " '268,335.0',\n",
       " '256,711.9',\n",
       " '295,253.6',\n",
       " '329,884.8',\n",
       " '312,625.6',\n",
       " 'Head Office and Inter',\n",
       " '-',\n",
       " 'Bank Adjustment',\n",
       " '615,872.8',\n",
       " '933,679.9',\n",
       " '791,734.1',\n",
       " '1,340,189.5',\n",
       " '999,505.6',\n",
       " '378,230.7',\n",
       " '100,683.4',\n",
       " 'Contingent Assets as per contra',\n",
       " '4,193,278.7',\n",
       " '4,196,427.7',\n",
       " '4,446,871.7',\n",
       " '4,151,895.4',\n",
       " '5,092,265.8',\n",
       " '5,470,701.3',\n",
       " '8,415,608.8',\n",
       " 'Other Assets',\n",
       " '2,105,887.8',\n",
       " '2,052,514.4',\n",
       " '2,244,647.9',\n",
       " '2,488,791.4',\n",
       " '2,314,982.6',\n",
       " '4,654,848.8',\n",
       " '2,590,169.7',\n",
       " 'Source: Statistics & Data Warehouse Department, SBP']"
      ]
     },
     "execution_count": 50,
     "metadata": {},
     "output_type": "execute_result"
    }
   ],
   "source": [
    "assets"
   ]
  },
  {
   "cell_type": "code",
   "execution_count": 51,
   "id": "65ee6f0e",
   "metadata": {},
   "outputs": [
    {
     "data": {
      "text/plain": [
       "7"
      ]
     },
     "execution_count": 51,
     "metadata": {},
     "output_type": "execute_result"
    }
   ],
   "source": [
    "Federal_Government_Securities =  assets[assets.index(\"Federal Government Securities\")+1:assets.index(\"Treasury Bills\")-1]\n",
    "len(Federal_Government_Securities)"
   ]
  },
  {
   "cell_type": "code",
   "execution_count": 52,
   "id": "ddc2e1e4",
   "metadata": {},
   "outputs": [
    {
     "data": {
      "text/plain": [
       "7"
      ]
     },
     "execution_count": 52,
     "metadata": {},
     "output_type": "execute_result"
    }
   ],
   "source": [
    "Treasury_Bills =  assets[assets.index(\"Treasury Bills\")+1:assets.index(\"Provincial Governments Securities\")-1]\n",
    "len(Treasury_Bills)"
   ]
  },
  {
   "cell_type": "code",
   "execution_count": 53,
   "id": "d4a0faea",
   "metadata": {},
   "outputs": [
    {
     "data": {
      "text/plain": [
       "6"
      ]
     },
     "execution_count": 53,
     "metadata": {},
     "output_type": "execute_result"
    }
   ],
   "source": [
    "Provincial_Government_Securities = assets[assets.index(\"Provincial Governments Securities\")+1:assets.index(\"Foreign Securities\")-1]\n",
    "len(Provincial_Government_Securities)"
   ]
  },
  {
   "cell_type": "code",
   "execution_count": 54,
   "id": "1feb0da7",
   "metadata": {},
   "outputs": [
    {
     "data": {
      "text/plain": [
       "7"
      ]
     },
     "execution_count": 54,
     "metadata": {},
     "output_type": "execute_result"
    }
   ],
   "source": [
    "# bcz other already exist in text\n",
    "foreign_securities =  assets[assets.index(\"Foreign Securities\")+1:assets.index(\"Bank Premises\")-9]\n",
    "len(foreign_securities)"
   ]
  },
  {
   "cell_type": "code",
   "execution_count": 55,
   "id": "973548cd",
   "metadata": {},
   "outputs": [
    {
     "data": {
      "text/plain": [
       "7"
      ]
     },
     "execution_count": 55,
     "metadata": {},
     "output_type": "execute_result"
    }
   ],
   "source": [
    "other_investment =  assets[assets.index(\"Foreign Securities\")+1:assets.index(\"Bank Premises\")][assets[assets.index(\"Foreign Securities\")+1:assets.index(\"Bank Premises\")].index(\"Others\")+1:]\n",
    "len(other_investment)"
   ]
  },
  {
   "cell_type": "code",
   "execution_count": 56,
   "id": "5e990632",
   "metadata": {},
   "outputs": [
    {
     "data": {
      "text/plain": [
       "7"
      ]
     },
     "execution_count": 56,
     "metadata": {},
     "output_type": "execute_result"
    }
   ],
   "source": [
    "Bank_Premises = assets[assets.index(\"Bank Premises\")+1:assets.index(\"Head Office and Inter\")]\n",
    "len(Bank_Premises)"
   ]
  },
  {
   "cell_type": "code",
   "execution_count": 57,
   "id": "a05e54db",
   "metadata": {},
   "outputs": [
    {
     "data": {
      "text/plain": [
       "7"
      ]
     },
     "execution_count": 57,
     "metadata": {},
     "output_type": "execute_result"
    }
   ],
   "source": [
    "HeadOffice_Inter_Bank_Adjustment =  assets[assets.index(\"Bank Adjustment\")+1:assets.index(\"Contingent Assets as per contra\")]\n",
    "len(HeadOffice_Inter_Bank_Adjustment)"
   ]
  },
  {
   "cell_type": "code",
   "execution_count": 58,
   "id": "a96ea496",
   "metadata": {},
   "outputs": [
    {
     "data": {
      "text/plain": [
       "7"
      ]
     },
     "execution_count": 58,
     "metadata": {},
     "output_type": "execute_result"
    }
   ],
   "source": [
    "Contingent_Assets_asper_contra = assets[assets.index(\"Contingent Assets as per contra\")+1:assets.index(\"Other Assets\")]\n",
    "len(Contingent_Assets_asper_contra)"
   ]
  },
  {
   "cell_type": "code",
   "execution_count": 59,
   "id": "8a79b15d",
   "metadata": {},
   "outputs": [
    {
     "data": {
      "text/plain": [
       "7"
      ]
     },
     "execution_count": 59,
     "metadata": {},
     "output_type": "execute_result"
    }
   ],
   "source": [
    "Other_Assets =  assets[assets.index(\"Other Assets\")+1:assets.index(\"Other Assets\")+8]\n",
    "len(Other_Assets)"
   ]
  },
  {
   "cell_type": "code",
   "execution_count": 60,
   "id": "90e42ccb",
   "metadata": {},
   "outputs": [
    {
     "data": {
      "text/plain": [
       "'2,105,887.8'"
      ]
     },
     "execution_count": 60,
     "metadata": {},
     "output_type": "execute_result"
    }
   ],
   "source": [
    "assets[assets.index(\"Other Assets\")+1]"
   ]
  },
  {
   "cell_type": "code",
   "execution_count": 61,
   "id": "9aa5252f",
   "metadata": {},
   "outputs": [
    {
     "data": {
      "text/plain": [
       "['2,105,887.8',\n",
       " '2,052,514.4',\n",
       " '2,244,647.9',\n",
       " '2,488,791.4',\n",
       " '2,314,982.6',\n",
       " '4,654,848.8',\n",
       " '2,590,169.7']"
      ]
     },
     "execution_count": 61,
     "metadata": {},
     "output_type": "execute_result"
    }
   ],
   "source": [
    "Other_Assets"
   ]
  },
  {
   "cell_type": "code",
   "execution_count": 62,
   "id": "24d1f84b",
   "metadata": {},
   "outputs": [],
   "source": [
    "all_columns = [Liabilities_capital,Liabilities_Reserves,demnand_deposit_total,demnand_deposit_scheduele_banks,demnand_deposit_others,time_deposits_total,time_deposits_scheduele_banks,time_deposits_others,borrowing_from_total,borrowing_from_sbp,borrowing_from_banks_abroad,borrowing_from_other_schedueled_banks,HeadOffice_InterBank_Adjustment,cotigent_liablities_AsPerContra,other_liablities,Total_Libilities_Assets,cash_total,Notes_Coins_Silver,balances_with_sbp,balances_with_other_schedueled_bank,balances_held_abroad,bill_purchased_discounts,total_advance_to,advance_to_scheduele_banks,advance_to_others,Investment_securities_shares,Federal_Government_Securities,Treasury_Bills,foreign_securities,other_investment,Bank_Premises,HeadOffice_Inter_Bank_Adjustment,Contingent_Assets_asper_contra,Other_Assets]\n",
    "all_headers = ['Liabilities_capital','Liabilities_Reserves','demnand_deposit_total','demnand_deposit_scheduele_banks','demnand_deposit_others','time_deposits_total','time_deposits_scheduele_banks','time_deposits_others','borrowing_from_total','borrowing_from_sbp','borrowing_from_banks_abroad','borrowing_from_other_schedueled_banks','HeadOffice_InterBank_Adjustment','cotigent_liablities_AsPerContra','other_liablities','Total_Libilities_Assets','cash_total','Notes_Coins_Silver','balances_with_sbp','balances_with_other_schedueled_bank','balances_held_abroad','bill_purchased_discounts','total_advance_to','advance_to_scheduele_banks','advance_to_others','Investment_securities_shares','Federal_Government_Securities','Treasury_Bills','foreign_securities','other_investment','Bank_Premises','HeadOffice_Inter_Bank_Adjustment','Contingent_Assets_asper_contra','Other_Assets']"
   ]
  },
  {
   "cell_type": "code",
   "execution_count": 63,
   "id": "1e8c059f",
   "metadata": {},
   "outputs": [],
   "source": [
    "df1 = pd.DataFrame(all_columns, columns=list1, index=all_headers)\n"
   ]
  },
  {
   "cell_type": "code",
   "execution_count": 64,
   "id": "27e79885",
   "metadata": {},
   "outputs": [],
   "source": [
    "year_month = str(year)+'_'+month"
   ]
  },
  {
   "cell_type": "code",
   "execution_count": 65,
   "id": "cc646831",
   "metadata": {},
   "outputs": [
    {
     "data": {
      "text/plain": [
       "'2019_Feb'"
      ]
     },
     "execution_count": 65,
     "metadata": {},
     "output_type": "execute_result"
    }
   ],
   "source": [
    "year_month "
   ]
  },
  {
   "cell_type": "code",
   "execution_count": 66,
   "id": "3380bdb5",
   "metadata": {},
   "outputs": [],
   "source": [
    "df1['Extract_Month'] = year_month"
   ]
  },
  {
   "cell_type": "code",
   "execution_count": 67,
   "id": "e4b0ef7b",
   "metadata": {},
   "outputs": [
    {
     "data": {
      "text/html": [
       "<div>\n",
       "<style scoped>\n",
       "    .dataframe tbody tr th:only-of-type {\n",
       "        vertical-align: middle;\n",
       "    }\n",
       "\n",
       "    .dataframe tbody tr th {\n",
       "        vertical-align: top;\n",
       "    }\n",
       "\n",
       "    .dataframe thead th {\n",
       "        text-align: right;\n",
       "    }\n",
       "</style>\n",
       "<table border=\"1\" class=\"dataframe\">\n",
       "  <thead>\n",
       "    <tr style=\"text-align: right;\">\n",
       "      <th></th>\n",
       "      <th>2015_Jun</th>\n",
       "      <th>2015_Dec</th>\n",
       "      <th>2016_Jun</th>\n",
       "      <th>2016_Dec</th>\n",
       "      <th>2017_Jun</th>\n",
       "      <th>2017_Dec</th>\n",
       "      <th>2018_Jun</th>\n",
       "      <th>Extract_Month</th>\n",
       "    </tr>\n",
       "  </thead>\n",
       "  <tbody>\n",
       "    <tr>\n",
       "      <th>Liabilities_capital</th>\n",
       "      <td>501,119.9</td>\n",
       "      <td>540,096.2</td>\n",
       "      <td>548,631.7</td>\n",
       "      <td>552,067.2</td>\n",
       "      <td>657,627.1</td>\n",
       "      <td>517,287.1</td>\n",
       "      <td>519,408.6</td>\n",
       "      <td>2019_Feb</td>\n",
       "    </tr>\n",
       "    <tr>\n",
       "      <th>Liabilities_Reserves</th>\n",
       "      <td>615,757.0</td>\n",
       "      <td>641,746.7</td>\n",
       "      <td>620,448.7</td>\n",
       "      <td>670,241.5</td>\n",
       "      <td>639,464.0</td>\n",
       "      <td>756,858.3</td>\n",
       "      <td>773,881.7</td>\n",
       "      <td>2019_Feb</td>\n",
       "    </tr>\n",
       "    <tr>\n",
       "      <th>demnand_deposit_total</th>\n",
       "      <td>5,172,476.2</td>\n",
       "      <td>5,093,745.0</td>\n",
       "      <td>5,561,224.4</td>\n",
       "      <td>6,091,277.9</td>\n",
       "      <td>6,625,035.0</td>\n",
       "      <td>7,346,818.9</td>\n",
       "      <td>8,067,967.7</td>\n",
       "      <td>2019_Feb</td>\n",
       "    </tr>\n",
       "    <tr>\n",
       "      <th>demnand_deposit_scheduele_banks</th>\n",
       "      <td>100,097.7</td>\n",
       "      <td>130,265.0</td>\n",
       "      <td>125,696.4</td>\n",
       "      <td>156,691.2</td>\n",
       "      <td>137,339.5</td>\n",
       "      <td>139,141.6</td>\n",
       "      <td>135,519.5</td>\n",
       "      <td>2019_Feb</td>\n",
       "    </tr>\n",
       "    <tr>\n",
       "      <th>demnand_deposit_others</th>\n",
       "      <td>5,072,378.6</td>\n",
       "      <td>4,963,480.0</td>\n",
       "      <td>5,435,528.0</td>\n",
       "      <td>5,934,586.7</td>\n",
       "      <td>6,487,695.6</td>\n",
       "      <td>7,207,677.3</td>\n",
       "      <td>7,932,448.2</td>\n",
       "      <td>2019_Feb</td>\n",
       "    </tr>\n",
       "    <tr>\n",
       "      <th>time_deposits_total</th>\n",
       "      <td>4,095,938.6</td>\n",
       "      <td>4,471,553.0</td>\n",
       "      <td>4,735,749.1</td>\n",
       "      <td>4,922,988.5</td>\n",
       "      <td>5,116,374.3</td>\n",
       "      <td>4,794,920.0</td>\n",
       "      <td>4,732,409.4</td>\n",
       "      <td>2019_Feb</td>\n",
       "    </tr>\n",
       "    <tr>\n",
       "      <th>time_deposits_scheduele_banks</th>\n",
       "      <td>15,308.1</td>\n",
       "      <td>25,153.3</td>\n",
       "      <td>13,620.1</td>\n",
       "      <td>16,316.8</td>\n",
       "      <td>11,969.3</td>\n",
       "      <td>55,704.4</td>\n",
       "      <td>15,807.8</td>\n",
       "      <td>2019_Feb</td>\n",
       "    </tr>\n",
       "    <tr>\n",
       "      <th>time_deposits_others</th>\n",
       "      <td>4,080,630.5</td>\n",
       "      <td>4,446,399.7</td>\n",
       "      <td>4,722,129.0</td>\n",
       "      <td>4,906,671.7</td>\n",
       "      <td>5,104,405.0</td>\n",
       "      <td>4,739,215.6</td>\n",
       "      <td>4,716,601.7</td>\n",
       "      <td>2019_Feb</td>\n",
       "    </tr>\n",
       "    <tr>\n",
       "      <th>borrowing_from_total</th>\n",
       "      <td>1,270,882.4</td>\n",
       "      <td>1,671,566.8</td>\n",
       "      <td>2,205,538.8</td>\n",
       "      <td>1,813,770.6</td>\n",
       "      <td>2,598,567.8</td>\n",
       "      <td>2,948,938.7</td>\n",
       "      <td>2,967,655.0</td>\n",
       "      <td>2019_Feb</td>\n",
       "    </tr>\n",
       "    <tr>\n",
       "      <th>borrowing_from_sbp</th>\n",
       "      <td>917,993.5</td>\n",
       "      <td>1,412,514.5</td>\n",
       "      <td>1,787,927.8</td>\n",
       "      <td>1,196,829.5</td>\n",
       "      <td>1,852,645.3</td>\n",
       "      <td>2,095,843.3</td>\n",
       "      <td>2,025,865.8</td>\n",
       "      <td>2019_Feb</td>\n",
       "    </tr>\n",
       "    <tr>\n",
       "      <th>borrowing_from_banks_abroad</th>\n",
       "      <td>107,372.1</td>\n",
       "      <td>129,203.3</td>\n",
       "      <td>172,580.1</td>\n",
       "      <td>210,077.1</td>\n",
       "      <td>318,209.0</td>\n",
       "      <td>340,117.8</td>\n",
       "      <td>358,304.7</td>\n",
       "      <td>2019_Feb</td>\n",
       "    </tr>\n",
       "    <tr>\n",
       "      <th>borrowing_from_other_schedueled_banks</th>\n",
       "      <td>245,516.8</td>\n",
       "      <td>129,849.0</td>\n",
       "      <td>245,030.9</td>\n",
       "      <td>406,864.0</td>\n",
       "      <td>427,713.5</td>\n",
       "      <td>512,977.5</td>\n",
       "      <td>583,484.5</td>\n",
       "      <td>2019_Feb</td>\n",
       "    </tr>\n",
       "    <tr>\n",
       "      <th>HeadOffice_InterBank_Adjustment</th>\n",
       "      <td>169,715.1</td>\n",
       "      <td>262,859.0</td>\n",
       "      <td>134,407.5</td>\n",
       "      <td>149,948.3</td>\n",
       "      <td>145,795.8</td>\n",
       "      <td>127,658.8</td>\n",
       "      <td>373,123.0</td>\n",
       "      <td>2019_Feb</td>\n",
       "    </tr>\n",
       "    <tr>\n",
       "      <th>cotigent_liablities_AsPerContra</th>\n",
       "      <td>4,193,278.7</td>\n",
       "      <td>4,196,427.7</td>\n",
       "      <td>4,446,871.7</td>\n",
       "      <td>4,151,895.4</td>\n",
       "      <td>5,092,265.8</td>\n",
       "      <td>5,470,701.3</td>\n",
       "      <td>8,415,608.8</td>\n",
       "      <td>2019_Feb</td>\n",
       "    </tr>\n",
       "    <tr>\n",
       "      <th>other_liablities</th>\n",
       "      <td>3,115,490.3</td>\n",
       "      <td>3,435,634.1</td>\n",
       "      <td>3,508,024.7</td>\n",
       "      <td>4,269,817.7</td>\n",
       "      <td>3,743,437.9</td>\n",
       "      <td>5,590,176.9</td>\n",
       "      <td>2,964,905.7</td>\n",
       "      <td>2019_Feb</td>\n",
       "    </tr>\n",
       "    <tr>\n",
       "      <th>Total_Libilities_Assets</th>\n",
       "      <td>19,134,658.2</td>\n",
       "      <td>20,313,628.4</td>\n",
       "      <td>21,760,896.7</td>\n",
       "      <td>22,622,007.3</td>\n",
       "      <td>24,618,567.7</td>\n",
       "      <td>27,553,359.8</td>\n",
       "      <td>28,814,960.0</td>\n",
       "      <td>2019_Feb</td>\n",
       "    </tr>\n",
       "    <tr>\n",
       "      <th>cash_total</th>\n",
       "      <td>937,644.7</td>\n",
       "      <td>813,373.2</td>\n",
       "      <td>821,920.2</td>\n",
       "      <td>1,113,358.3</td>\n",
       "      <td>1,215,145.2</td>\n",
       "      <td>1,258,728.2</td>\n",
       "      <td>1,424,819.5</td>\n",
       "      <td>2019_Feb</td>\n",
       "    </tr>\n",
       "    <tr>\n",
       "      <th>Notes_Coins_Silver</th>\n",
       "      <td>187,997.8</td>\n",
       "      <td>190,966.5</td>\n",
       "      <td>256,738.8</td>\n",
       "      <td>212,555.5</td>\n",
       "      <td>294,332.1</td>\n",
       "      <td>238,297.8</td>\n",
       "      <td>291,135.3</td>\n",
       "      <td>2019_Feb</td>\n",
       "    </tr>\n",
       "    <tr>\n",
       "      <th>balances_with_sbp</th>\n",
       "      <td>405,453.1</td>\n",
       "      <td>415,475.4</td>\n",
       "      <td>380,156.7</td>\n",
       "      <td>636,117.9</td>\n",
       "      <td>650,567.5</td>\n",
       "      <td>718,680.5</td>\n",
       "      <td>787,974.3</td>\n",
       "      <td>2019_Feb</td>\n",
       "    </tr>\n",
       "    <tr>\n",
       "      <th>balances_with_other_schedueled_bank</th>\n",
       "      <td>344,193.8</td>\n",
       "      <td>206,931.3</td>\n",
       "      <td>185,024.7</td>\n",
       "      <td>264,685.0</td>\n",
       "      <td>270,245.6</td>\n",
       "      <td>301,749.8</td>\n",
       "      <td>345,709.9</td>\n",
       "      <td>2019_Feb</td>\n",
       "    </tr>\n",
       "    <tr>\n",
       "      <th>balances_held_abroad</th>\n",
       "      <td>186,453.2</td>\n",
       "      <td>226,193.8</td>\n",
       "      <td>188,926.2</td>\n",
       "      <td>175,738.3</td>\n",
       "      <td>217,541.2</td>\n",
       "      <td>178,730.1</td>\n",
       "      <td>207,590.3</td>\n",
       "      <td>2019_Feb</td>\n",
       "    </tr>\n",
       "    <tr>\n",
       "      <th>bill_purchased_discounts</th>\n",
       "      <td>201,422.5</td>\n",
       "      <td>171,840.1</td>\n",
       "      <td>190,090.3</td>\n",
       "      <td>176,612.8</td>\n",
       "      <td>208,966.9</td>\n",
       "      <td>225,650.5</td>\n",
       "      <td>241,353.6</td>\n",
       "      <td>2019_Feb</td>\n",
       "    </tr>\n",
       "    <tr>\n",
       "      <th>total_advance_to</th>\n",
       "      <td>4,643,595.7</td>\n",
       "      <td>4,922,944.9</td>\n",
       "      <td>5,198,093.1</td>\n",
       "      <td>5,649,917.1</td>\n",
       "      <td>6,047,133.8</td>\n",
       "      <td>6,451,545.7</td>\n",
       "      <td>7,201,209.9</td>\n",
       "      <td>2019_Feb</td>\n",
       "    </tr>\n",
       "    <tr>\n",
       "      <th>advance_to_scheduele_banks</th>\n",
       "      <td>139,739.8</td>\n",
       "      <td>178,894.1</td>\n",
       "      <td>119,901.1</td>\n",
       "      <td>246,686.9</td>\n",
       "      <td>81,194.8</td>\n",
       "      <td>145,084.1</td>\n",
       "      <td>78,394.3</td>\n",
       "      <td>2019_Feb</td>\n",
       "    </tr>\n",
       "    <tr>\n",
       "      <th>advance_to_others</th>\n",
       "      <td>4,503,855.8</td>\n",
       "      <td>4,744,050.8</td>\n",
       "      <td>5,078,192.0</td>\n",
       "      <td>5,403,230.2</td>\n",
       "      <td>5,965,939.0</td>\n",
       "      <td>6,306,461.6</td>\n",
       "      <td>7,122,815.6</td>\n",
       "      <td>2019_Feb</td>\n",
       "    </tr>\n",
       "    <tr>\n",
       "      <th>Investment_securities_shares</th>\n",
       "      <td>6,011,774.8</td>\n",
       "      <td>6,752,158.1</td>\n",
       "      <td>7,610,278.2</td>\n",
       "      <td>7,268,792.7</td>\n",
       "      <td>8,227,773.0</td>\n",
       "      <td>8,605,039.7</td>\n",
       "      <td>8,320,899.2</td>\n",
       "      <td>2019_Feb</td>\n",
       "    </tr>\n",
       "    <tr>\n",
       "      <th>Federal_Government_Securities</th>\n",
       "      <td>3,017,006.1</td>\n",
       "      <td>3,377,903.4</td>\n",
       "      <td>3,975,046.5</td>\n",
       "      <td>3,144,843.2</td>\n",
       "      <td>3,374,796.2</td>\n",
       "      <td>2,965,941.9</td>\n",
       "      <td>2,454,521.7</td>\n",
       "      <td>2019_Feb</td>\n",
       "    </tr>\n",
       "    <tr>\n",
       "      <th>Treasury_Bills</th>\n",
       "      <td>2,164,377.3</td>\n",
       "      <td>2,537,577.9</td>\n",
       "      <td>2,666,090.3</td>\n",
       "      <td>3,145,702.9</td>\n",
       "      <td>3,783,600.4</td>\n",
       "      <td>4,588,491.8</td>\n",
       "      <td>4,773,462.6</td>\n",
       "      <td>2019_Feb</td>\n",
       "    </tr>\n",
       "    <tr>\n",
       "      <th>foreign_securities</th>\n",
       "      <td>104,955.0</td>\n",
       "      <td>99,727.8</td>\n",
       "      <td>185,504.3</td>\n",
       "      <td>121,077.1</td>\n",
       "      <td>236,707.6</td>\n",
       "      <td>257,402.4</td>\n",
       "      <td>161,122.5</td>\n",
       "      <td>2019_Feb</td>\n",
       "    </tr>\n",
       "    <tr>\n",
       "      <th>other_investment</th>\n",
       "      <td>725,436.4</td>\n",
       "      <td>736,949.0</td>\n",
       "      <td>783,637.1</td>\n",
       "      <td>857,169.5</td>\n",
       "      <td>832,668.8</td>\n",
       "      <td>793,203.5</td>\n",
       "      <td>931,792.4</td>\n",
       "      <td>2019_Feb</td>\n",
       "    </tr>\n",
       "    <tr>\n",
       "      <th>Bank_Premises</th>\n",
       "      <td>238,727.9</td>\n",
       "      <td>244,496.3</td>\n",
       "      <td>268,335.0</td>\n",
       "      <td>256,711.9</td>\n",
       "      <td>295,253.6</td>\n",
       "      <td>329,884.8</td>\n",
       "      <td>312,625.6</td>\n",
       "      <td>2019_Feb</td>\n",
       "    </tr>\n",
       "    <tr>\n",
       "      <th>HeadOffice_Inter_Bank_Adjustment</th>\n",
       "      <td>615,872.8</td>\n",
       "      <td>933,679.9</td>\n",
       "      <td>791,734.1</td>\n",
       "      <td>1,340,189.5</td>\n",
       "      <td>999,505.6</td>\n",
       "      <td>378,230.7</td>\n",
       "      <td>100,683.4</td>\n",
       "      <td>2019_Feb</td>\n",
       "    </tr>\n",
       "    <tr>\n",
       "      <th>Contingent_Assets_asper_contra</th>\n",
       "      <td>4,193,278.7</td>\n",
       "      <td>4,196,427.7</td>\n",
       "      <td>4,446,871.7</td>\n",
       "      <td>4,151,895.4</td>\n",
       "      <td>5,092,265.8</td>\n",
       "      <td>5,470,701.3</td>\n",
       "      <td>8,415,608.8</td>\n",
       "      <td>2019_Feb</td>\n",
       "    </tr>\n",
       "    <tr>\n",
       "      <th>Other_Assets</th>\n",
       "      <td>2,105,887.8</td>\n",
       "      <td>2,052,514.4</td>\n",
       "      <td>2,244,647.9</td>\n",
       "      <td>2,488,791.4</td>\n",
       "      <td>2,314,982.6</td>\n",
       "      <td>4,654,848.8</td>\n",
       "      <td>2,590,169.7</td>\n",
       "      <td>2019_Feb</td>\n",
       "    </tr>\n",
       "  </tbody>\n",
       "</table>\n",
       "</div>"
      ],
      "text/plain": [
       "                                           2015_Jun      2015_Dec  \\\n",
       "Liabilities_capital                       501,119.9     540,096.2   \n",
       "Liabilities_Reserves                      615,757.0     641,746.7   \n",
       "demnand_deposit_total                   5,172,476.2   5,093,745.0   \n",
       "demnand_deposit_scheduele_banks           100,097.7     130,265.0   \n",
       "demnand_deposit_others                  5,072,378.6   4,963,480.0   \n",
       "time_deposits_total                     4,095,938.6   4,471,553.0   \n",
       "time_deposits_scheduele_banks              15,308.1      25,153.3   \n",
       "time_deposits_others                    4,080,630.5   4,446,399.7   \n",
       "borrowing_from_total                    1,270,882.4   1,671,566.8   \n",
       "borrowing_from_sbp                        917,993.5   1,412,514.5   \n",
       "borrowing_from_banks_abroad               107,372.1     129,203.3   \n",
       "borrowing_from_other_schedueled_banks     245,516.8     129,849.0   \n",
       "HeadOffice_InterBank_Adjustment           169,715.1     262,859.0   \n",
       "cotigent_liablities_AsPerContra         4,193,278.7   4,196,427.7   \n",
       "other_liablities                        3,115,490.3   3,435,634.1   \n",
       "Total_Libilities_Assets                19,134,658.2  20,313,628.4   \n",
       "cash_total                                937,644.7     813,373.2   \n",
       "Notes_Coins_Silver                        187,997.8     190,966.5   \n",
       "balances_with_sbp                         405,453.1     415,475.4   \n",
       "balances_with_other_schedueled_bank       344,193.8     206,931.3   \n",
       "balances_held_abroad                      186,453.2     226,193.8   \n",
       "bill_purchased_discounts                  201,422.5     171,840.1   \n",
       "total_advance_to                        4,643,595.7   4,922,944.9   \n",
       "advance_to_scheduele_banks                139,739.8     178,894.1   \n",
       "advance_to_others                       4,503,855.8   4,744,050.8   \n",
       "Investment_securities_shares            6,011,774.8   6,752,158.1   \n",
       "Federal_Government_Securities           3,017,006.1   3,377,903.4   \n",
       "Treasury_Bills                          2,164,377.3   2,537,577.9   \n",
       "foreign_securities                        104,955.0      99,727.8   \n",
       "other_investment                          725,436.4     736,949.0   \n",
       "Bank_Premises                             238,727.9     244,496.3   \n",
       "HeadOffice_Inter_Bank_Adjustment          615,872.8     933,679.9   \n",
       "Contingent_Assets_asper_contra          4,193,278.7   4,196,427.7   \n",
       "Other_Assets                            2,105,887.8   2,052,514.4   \n",
       "\n",
       "                                           2016_Jun      2016_Dec  \\\n",
       "Liabilities_capital                       548,631.7     552,067.2   \n",
       "Liabilities_Reserves                      620,448.7     670,241.5   \n",
       "demnand_deposit_total                   5,561,224.4   6,091,277.9   \n",
       "demnand_deposit_scheduele_banks           125,696.4     156,691.2   \n",
       "demnand_deposit_others                  5,435,528.0   5,934,586.7   \n",
       "time_deposits_total                     4,735,749.1   4,922,988.5   \n",
       "time_deposits_scheduele_banks              13,620.1      16,316.8   \n",
       "time_deposits_others                    4,722,129.0   4,906,671.7   \n",
       "borrowing_from_total                    2,205,538.8   1,813,770.6   \n",
       "borrowing_from_sbp                      1,787,927.8   1,196,829.5   \n",
       "borrowing_from_banks_abroad               172,580.1     210,077.1   \n",
       "borrowing_from_other_schedueled_banks     245,030.9     406,864.0   \n",
       "HeadOffice_InterBank_Adjustment           134,407.5     149,948.3   \n",
       "cotigent_liablities_AsPerContra         4,446,871.7   4,151,895.4   \n",
       "other_liablities                        3,508,024.7   4,269,817.7   \n",
       "Total_Libilities_Assets                21,760,896.7  22,622,007.3   \n",
       "cash_total                                821,920.2   1,113,358.3   \n",
       "Notes_Coins_Silver                        256,738.8     212,555.5   \n",
       "balances_with_sbp                         380,156.7     636,117.9   \n",
       "balances_with_other_schedueled_bank       185,024.7     264,685.0   \n",
       "balances_held_abroad                      188,926.2     175,738.3   \n",
       "bill_purchased_discounts                  190,090.3     176,612.8   \n",
       "total_advance_to                        5,198,093.1   5,649,917.1   \n",
       "advance_to_scheduele_banks                119,901.1     246,686.9   \n",
       "advance_to_others                       5,078,192.0   5,403,230.2   \n",
       "Investment_securities_shares            7,610,278.2   7,268,792.7   \n",
       "Federal_Government_Securities           3,975,046.5   3,144,843.2   \n",
       "Treasury_Bills                          2,666,090.3   3,145,702.9   \n",
       "foreign_securities                        185,504.3     121,077.1   \n",
       "other_investment                          783,637.1     857,169.5   \n",
       "Bank_Premises                             268,335.0     256,711.9   \n",
       "HeadOffice_Inter_Bank_Adjustment          791,734.1   1,340,189.5   \n",
       "Contingent_Assets_asper_contra          4,446,871.7   4,151,895.4   \n",
       "Other_Assets                            2,244,647.9   2,488,791.4   \n",
       "\n",
       "                                           2017_Jun      2017_Dec  \\\n",
       "Liabilities_capital                       657,627.1     517,287.1   \n",
       "Liabilities_Reserves                      639,464.0     756,858.3   \n",
       "demnand_deposit_total                   6,625,035.0   7,346,818.9   \n",
       "demnand_deposit_scheduele_banks           137,339.5     139,141.6   \n",
       "demnand_deposit_others                  6,487,695.6   7,207,677.3   \n",
       "time_deposits_total                     5,116,374.3   4,794,920.0   \n",
       "time_deposits_scheduele_banks              11,969.3      55,704.4   \n",
       "time_deposits_others                    5,104,405.0   4,739,215.6   \n",
       "borrowing_from_total                    2,598,567.8   2,948,938.7   \n",
       "borrowing_from_sbp                      1,852,645.3   2,095,843.3   \n",
       "borrowing_from_banks_abroad               318,209.0     340,117.8   \n",
       "borrowing_from_other_schedueled_banks     427,713.5     512,977.5   \n",
       "HeadOffice_InterBank_Adjustment           145,795.8     127,658.8   \n",
       "cotigent_liablities_AsPerContra         5,092,265.8   5,470,701.3   \n",
       "other_liablities                        3,743,437.9   5,590,176.9   \n",
       "Total_Libilities_Assets                24,618,567.7  27,553,359.8   \n",
       "cash_total                              1,215,145.2   1,258,728.2   \n",
       "Notes_Coins_Silver                        294,332.1     238,297.8   \n",
       "balances_with_sbp                         650,567.5     718,680.5   \n",
       "balances_with_other_schedueled_bank       270,245.6     301,749.8   \n",
       "balances_held_abroad                      217,541.2     178,730.1   \n",
       "bill_purchased_discounts                  208,966.9     225,650.5   \n",
       "total_advance_to                        6,047,133.8   6,451,545.7   \n",
       "advance_to_scheduele_banks                 81,194.8     145,084.1   \n",
       "advance_to_others                       5,965,939.0   6,306,461.6   \n",
       "Investment_securities_shares            8,227,773.0   8,605,039.7   \n",
       "Federal_Government_Securities           3,374,796.2   2,965,941.9   \n",
       "Treasury_Bills                          3,783,600.4   4,588,491.8   \n",
       "foreign_securities                        236,707.6     257,402.4   \n",
       "other_investment                          832,668.8     793,203.5   \n",
       "Bank_Premises                             295,253.6     329,884.8   \n",
       "HeadOffice_Inter_Bank_Adjustment          999,505.6     378,230.7   \n",
       "Contingent_Assets_asper_contra          5,092,265.8   5,470,701.3   \n",
       "Other_Assets                            2,314,982.6   4,654,848.8   \n",
       "\n",
       "                                           2018_Jun Extract_Month  \n",
       "Liabilities_capital                       519,408.6      2019_Feb  \n",
       "Liabilities_Reserves                      773,881.7      2019_Feb  \n",
       "demnand_deposit_total                   8,067,967.7      2019_Feb  \n",
       "demnand_deposit_scheduele_banks           135,519.5      2019_Feb  \n",
       "demnand_deposit_others                  7,932,448.2      2019_Feb  \n",
       "time_deposits_total                     4,732,409.4      2019_Feb  \n",
       "time_deposits_scheduele_banks              15,807.8      2019_Feb  \n",
       "time_deposits_others                    4,716,601.7      2019_Feb  \n",
       "borrowing_from_total                    2,967,655.0      2019_Feb  \n",
       "borrowing_from_sbp                      2,025,865.8      2019_Feb  \n",
       "borrowing_from_banks_abroad               358,304.7      2019_Feb  \n",
       "borrowing_from_other_schedueled_banks     583,484.5      2019_Feb  \n",
       "HeadOffice_InterBank_Adjustment           373,123.0      2019_Feb  \n",
       "cotigent_liablities_AsPerContra         8,415,608.8      2019_Feb  \n",
       "other_liablities                        2,964,905.7      2019_Feb  \n",
       "Total_Libilities_Assets                28,814,960.0      2019_Feb  \n",
       "cash_total                              1,424,819.5      2019_Feb  \n",
       "Notes_Coins_Silver                        291,135.3      2019_Feb  \n",
       "balances_with_sbp                         787,974.3      2019_Feb  \n",
       "balances_with_other_schedueled_bank       345,709.9      2019_Feb  \n",
       "balances_held_abroad                      207,590.3      2019_Feb  \n",
       "bill_purchased_discounts                  241,353.6      2019_Feb  \n",
       "total_advance_to                        7,201,209.9      2019_Feb  \n",
       "advance_to_scheduele_banks                 78,394.3      2019_Feb  \n",
       "advance_to_others                       7,122,815.6      2019_Feb  \n",
       "Investment_securities_shares            8,320,899.2      2019_Feb  \n",
       "Federal_Government_Securities           2,454,521.7      2019_Feb  \n",
       "Treasury_Bills                          4,773,462.6      2019_Feb  \n",
       "foreign_securities                        161,122.5      2019_Feb  \n",
       "other_investment                          931,792.4      2019_Feb  \n",
       "Bank_Premises                             312,625.6      2019_Feb  \n",
       "HeadOffice_Inter_Bank_Adjustment          100,683.4      2019_Feb  \n",
       "Contingent_Assets_asper_contra          8,415,608.8      2019_Feb  \n",
       "Other_Assets                            2,590,169.7      2019_Feb  "
      ]
     },
     "execution_count": 67,
     "metadata": {},
     "output_type": "execute_result"
    }
   ],
   "source": [
    "df1"
   ]
  },
  {
   "cell_type": "code",
   "execution_count": null,
   "id": "ff6df915",
   "metadata": {},
   "outputs": [],
   "source": []
  },
  {
   "cell_type": "code",
   "execution_count": 68,
   "id": "5c4e3dde",
   "metadata": {},
   "outputs": [],
   "source": [
    "df1.to_csv('sbp_excel/'+year_month+'.csv')"
   ]
  },
  {
   "cell_type": "code",
   "execution_count": null,
   "id": "d56eed3d",
   "metadata": {},
   "outputs": [],
   "source": []
  },
  {
   "cell_type": "code",
   "execution_count": null,
   "id": "9a57b32d",
   "metadata": {},
   "outputs": [],
   "source": []
  },
  {
   "cell_type": "code",
   "execution_count": null,
   "id": "e9277908",
   "metadata": {},
   "outputs": [],
   "source": []
  },
  {
   "cell_type": "code",
   "execution_count": null,
   "id": "8ebaca82",
   "metadata": {},
   "outputs": [],
   "source": []
  },
  {
   "cell_type": "code",
   "execution_count": null,
   "id": "89950833",
   "metadata": {},
   "outputs": [],
   "source": []
  },
  {
   "cell_type": "code",
   "execution_count": null,
   "id": "2131b7d5",
   "metadata": {},
   "outputs": [],
   "source": []
  },
  {
   "cell_type": "code",
   "execution_count": null,
   "id": "b456fea3",
   "metadata": {},
   "outputs": [],
   "source": []
  },
  {
   "cell_type": "code",
   "execution_count": null,
   "id": "50429b55",
   "metadata": {},
   "outputs": [],
   "source": []
  },
  {
   "cell_type": "code",
   "execution_count": null,
   "id": "c06afdce",
   "metadata": {},
   "outputs": [],
   "source": []
  },
  {
   "cell_type": "code",
   "execution_count": null,
   "id": "7a8f013e",
   "metadata": {},
   "outputs": [],
   "source": []
  },
  {
   "cell_type": "code",
   "execution_count": null,
   "id": "3b6feb53",
   "metadata": {},
   "outputs": [],
   "source": []
  },
  {
   "cell_type": "code",
   "execution_count": null,
   "id": "de62ddd5",
   "metadata": {},
   "outputs": [],
   "source": []
  },
  {
   "cell_type": "code",
   "execution_count": null,
   "id": "6f0be825",
   "metadata": {},
   "outputs": [],
   "source": []
  },
  {
   "cell_type": "code",
   "execution_count": null,
   "id": "2f37fffe",
   "metadata": {},
   "outputs": [],
   "source": []
  },
  {
   "cell_type": "code",
   "execution_count": null,
   "id": "55b703e3",
   "metadata": {},
   "outputs": [],
   "source": []
  },
  {
   "cell_type": "code",
   "execution_count": null,
   "id": "1ef7f5ae",
   "metadata": {},
   "outputs": [],
   "source": []
  },
  {
   "cell_type": "code",
   "execution_count": null,
   "id": "cdee39bd",
   "metadata": {},
   "outputs": [],
   "source": []
  },
  {
   "cell_type": "code",
   "execution_count": null,
   "id": "666b25fb",
   "metadata": {},
   "outputs": [],
   "source": []
  },
  {
   "cell_type": "code",
   "execution_count": null,
   "id": "54cf0aca",
   "metadata": {},
   "outputs": [],
   "source": []
  },
  {
   "cell_type": "code",
   "execution_count": null,
   "id": "f4f8f36a",
   "metadata": {},
   "outputs": [],
   "source": []
  },
  {
   "cell_type": "code",
   "execution_count": null,
   "id": "83083284",
   "metadata": {},
   "outputs": [],
   "source": []
  },
  {
   "cell_type": "code",
   "execution_count": null,
   "id": "8335b2fb",
   "metadata": {},
   "outputs": [],
   "source": []
  },
  {
   "cell_type": "code",
   "execution_count": null,
   "id": "29764558",
   "metadata": {},
   "outputs": [],
   "source": []
  },
  {
   "cell_type": "code",
   "execution_count": null,
   "id": "16da55eb",
   "metadata": {},
   "outputs": [],
   "source": []
  },
  {
   "cell_type": "code",
   "execution_count": null,
   "id": "db6617b4",
   "metadata": {},
   "outputs": [],
   "source": []
  },
  {
   "cell_type": "code",
   "execution_count": null,
   "id": "97bf3d51",
   "metadata": {},
   "outputs": [],
   "source": []
  },
  {
   "cell_type": "code",
   "execution_count": null,
   "id": "5a405a8e",
   "metadata": {},
   "outputs": [],
   "source": []
  },
  {
   "cell_type": "code",
   "execution_count": null,
   "id": "c9cbd6db",
   "metadata": {},
   "outputs": [],
   "source": []
  },
  {
   "cell_type": "code",
   "execution_count": null,
   "id": "91e44283",
   "metadata": {},
   "outputs": [],
   "source": []
  },
  {
   "cell_type": "code",
   "execution_count": null,
   "id": "9dcd7030",
   "metadata": {},
   "outputs": [],
   "source": []
  },
  {
   "cell_type": "code",
   "execution_count": null,
   "id": "68579120",
   "metadata": {},
   "outputs": [],
   "source": []
  },
  {
   "cell_type": "code",
   "execution_count": null,
   "id": "0460c206",
   "metadata": {},
   "outputs": [],
   "source": []
  },
  {
   "cell_type": "code",
   "execution_count": null,
   "id": "2b459c7d",
   "metadata": {},
   "outputs": [],
   "source": []
  },
  {
   "cell_type": "code",
   "execution_count": null,
   "id": "c47317b7",
   "metadata": {},
   "outputs": [],
   "source": []
  },
  {
   "cell_type": "code",
   "execution_count": null,
   "id": "9a634424",
   "metadata": {},
   "outputs": [],
   "source": []
  },
  {
   "cell_type": "code",
   "execution_count": null,
   "id": "2c505669",
   "metadata": {},
   "outputs": [],
   "source": []
  },
  {
   "cell_type": "code",
   "execution_count": null,
   "id": "36f1b52c",
   "metadata": {},
   "outputs": [],
   "source": []
  },
  {
   "cell_type": "code",
   "execution_count": null,
   "id": "55f66083",
   "metadata": {},
   "outputs": [],
   "source": []
  },
  {
   "cell_type": "code",
   "execution_count": null,
   "id": "dedbe8d8",
   "metadata": {},
   "outputs": [],
   "source": []
  },
  {
   "cell_type": "code",
   "execution_count": null,
   "id": "f23d83bb",
   "metadata": {},
   "outputs": [],
   "source": []
  },
  {
   "cell_type": "code",
   "execution_count": null,
   "id": "c34b4041",
   "metadata": {},
   "outputs": [],
   "source": []
  },
  {
   "cell_type": "code",
   "execution_count": null,
   "id": "53d29929",
   "metadata": {},
   "outputs": [],
   "source": []
  }
 ],
 "metadata": {
  "kernelspec": {
   "display_name": "Python 3 (ipykernel)",
   "language": "python",
   "name": "python3"
  },
  "language_info": {
   "codemirror_mode": {
    "name": "ipython",
    "version": 3
   },
   "file_extension": ".py",
   "mimetype": "text/x-python",
   "name": "python",
   "nbconvert_exporter": "python",
   "pygments_lexer": "ipython3",
   "version": "3.9.7"
  }
 },
 "nbformat": 4,
 "nbformat_minor": 5
}
